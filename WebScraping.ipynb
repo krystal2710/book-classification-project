{
 "cells": [
  {
   "cell_type": "code",
   "execution_count": 1,
   "metadata": {
    "executionInfo": {
     "elapsed": 112,
     "status": "ok",
     "timestamp": 1675638037077,
     "user": {
      "displayName": "Krystal Ly",
      "userId": "10859342568194930352"
     },
     "user_tz": 300
    },
    "id": "e9rhvFdWBveq"
   },
   "outputs": [],
   "source": [
    "import os\n",
    "os.chdir('/Volumes/Users/ly_k1/Documents/IndependentStudy/')"
   ]
  },
  {
   "cell_type": "markdown",
   "metadata": {
    "id": "lTX1dMGDCC4R"
   },
   "source": [
    "# Content of the Project\n",
    "\n",
    "1. Set Up\n",
    "2. Web-scraping\n",
    "3. Exploratory Data Analysis"
   ]
  },
  {
   "cell_type": "markdown",
   "metadata": {
    "id": "FP_WvaZ9CO3O"
   },
   "source": [
    "# Scrape Book Genres"
   ]
  },
  {
   "cell_type": "code",
   "execution_count": 2,
   "metadata": {
    "colab": {
     "base_uri": "https://localhost:8080/",
     "height": 142
    },
    "executionInfo": {
     "elapsed": 540,
     "status": "ok",
     "timestamp": 1675638484521,
     "user": {
      "displayName": "Krystal Ly",
      "userId": "10859342568194930352"
     },
     "user_tz": 300
    },
    "id": "ukgKLYMwCVAy",
    "outputId": "2b61e06e-7879-447e-e2f0-19e05964d9ac"
   },
   "outputs": [
    {
     "data": {
      "text/html": [
       "<div>\n",
       "<style scoped>\n",
       "    .dataframe tbody tr th:only-of-type {\n",
       "        vertical-align: middle;\n",
       "    }\n",
       "\n",
       "    .dataframe tbody tr th {\n",
       "        vertical-align: top;\n",
       "    }\n",
       "\n",
       "    .dataframe thead th {\n",
       "        text-align: right;\n",
       "    }\n",
       "</style>\n",
       "<table border=\"1\" class=\"dataframe\">\n",
       "  <thead>\n",
       "    <tr style=\"text-align: right;\">\n",
       "      <th></th>\n",
       "      <th>item_id</th>\n",
       "      <th>url</th>\n",
       "      <th>title</th>\n",
       "      <th>authors</th>\n",
       "      <th>lang</th>\n",
       "      <th>img</th>\n",
       "      <th>year</th>\n",
       "      <th>description</th>\n",
       "    </tr>\n",
       "  </thead>\n",
       "  <tbody>\n",
       "    <tr>\n",
       "      <th>9371</th>\n",
       "      <td>2021847</td>\n",
       "      <td>https://www.goodreads.com/book/show/25104.The_...</td>\n",
       "      <td>The Wake (The Sandman #10)</td>\n",
       "      <td>Neil Gaiman</td>\n",
       "      <td>eng</td>\n",
       "      <td>https://images.gr-assets.com/books/1339922545m...</td>\n",
       "      <td>1999</td>\n",
       "      <td>When a Dream ends, there is only one thing lef...</td>\n",
       "    </tr>\n",
       "    <tr>\n",
       "      <th>9372</th>\n",
       "      <td>645677</td>\n",
       "      <td>https://www.goodreads.com/book/show/659600.Ann...</td>\n",
       "      <td>Annie's Song</td>\n",
       "      <td>Catherine Anderson</td>\n",
       "      <td>eng</td>\n",
       "      <td>https://images.gr-assets.com/books/1325836635m...</td>\n",
       "      <td>1996</td>\n",
       "      <td>Annie Trimble lives in a solitary world that n...</td>\n",
       "    </tr>\n",
       "    <tr>\n",
       "      <th>9373</th>\n",
       "      <td>963076</td>\n",
       "      <td>https://www.goodreads.com/book/show/218659.Eve...</td>\n",
       "      <td>Everything That Rises Must Converge: Stories</td>\n",
       "      <td>Flannery O'Connor</td>\n",
       "      <td>eng</td>\n",
       "      <td>https://images.gr-assets.com/books/1412859621m...</td>\n",
       "      <td>1996</td>\n",
       "      <td>Librarian's Note: For an alternate hardcover e...</td>\n",
       "    </tr>\n",
       "  </tbody>\n",
       "</table>\n",
       "</div>"
      ],
      "text/plain": [
       "      item_id                                                url  \\\n",
       "9371  2021847  https://www.goodreads.com/book/show/25104.The_...   \n",
       "9372   645677  https://www.goodreads.com/book/show/659600.Ann...   \n",
       "9373   963076  https://www.goodreads.com/book/show/218659.Eve...   \n",
       "\n",
       "                                             title             authors lang  \\\n",
       "9371                    The Wake (The Sandman #10)         Neil Gaiman  eng   \n",
       "9372                                  Annie's Song  Catherine Anderson  eng   \n",
       "9373  Everything That Rises Must Converge: Stories   Flannery O'Connor  eng   \n",
       "\n",
       "                                                    img  year  \\\n",
       "9371  https://images.gr-assets.com/books/1339922545m...  1999   \n",
       "9372  https://images.gr-assets.com/books/1325836635m...  1996   \n",
       "9373  https://images.gr-assets.com/books/1412859621m...  1996   \n",
       "\n",
       "                                            description  \n",
       "9371  When a Dream ends, there is only one thing lef...  \n",
       "9372  Annie Trimble lives in a solitary world that n...  \n",
       "9373  Librarian's Note: For an alternate hardcover e...  "
      ]
     },
     "execution_count": 2,
     "metadata": {},
     "output_type": "execute_result"
    }
   ],
   "source": [
    "import pandas as pd\n",
    "\n",
    "metadata_df = pd.read_csv(\"data/metadata.csv\", index_col = 0)\n",
    "metadata_df.tail(3)"
   ]
  },
  {
   "cell_type": "code",
   "execution_count": 3,
   "metadata": {},
   "outputs": [
    {
     "data": {
      "text/plain": [
       "'https://www.goodreads.com/book/show/11870085-the-fault-in-our-stars'"
      ]
     },
     "execution_count": 3,
     "metadata": {},
     "output_type": "execute_result"
    }
   ],
   "source": [
    "metadata_df['url'][0]"
   ]
  },
  {
   "cell_type": "code",
   "execution_count": 4,
   "metadata": {
    "colab": {
     "background_save": true,
     "base_uri": "https://localhost:8080/"
    },
    "id": "FmrqQZzaDcmY",
    "outputId": "bbdb128d-477b-40ac-b5a6-7927b4890209"
   },
   "outputs": [
    {
     "name": "stderr",
     "output_type": "stream",
     "text": [
      "/usr/lib/python3/dist-packages/requests/__init__.py:89: RequestsDependencyWarning: urllib3 (1.26.9) or chardet (3.0.4) doesn't match a supported version!\n",
      "  warnings.warn(\"urllib3 ({}) or chardet ({}) doesn't match a supported \"\n"
     ]
    },
    {
     "ename": "FeatureNotFound",
     "evalue": "Couldn't find a tree builder with the features you requested: lxml. Do you need to install a parser library?",
     "output_type": "error",
     "traceback": [
      "\u001b[0;31m---------------------------------------------------------------------------\u001b[0m",
      "\u001b[0;31mFeatureNotFound\u001b[0m                           Traceback (most recent call last)",
      "Cell \u001b[0;32mIn[4], line 11\u001b[0m\n\u001b[1;32m      9\u001b[0m row_dict \u001b[39m=\u001b[39m {}\n\u001b[1;32m     10\u001b[0m \u001b[39mfor\u001b[39;00m row_index, row_series \u001b[39min\u001b[39;00m metadata_df[[\u001b[39m'\u001b[39m\u001b[39mitem_id\u001b[39m\u001b[39m'\u001b[39m,\u001b[39m'\u001b[39m\u001b[39murl\u001b[39m\u001b[39m'\u001b[39m]][i:i\u001b[39m+\u001b[39m\u001b[39m1000\u001b[39m]\u001b[39m.\u001b[39miterrows():\n\u001b[0;32m---> 11\u001b[0m     row_dict[row_series[\u001b[39m0\u001b[39m]] \u001b[39m=\u001b[39m helper\u001b[39m.\u001b[39;49mget_genres(row_series[\u001b[39m1\u001b[39;49m])\n\u001b[1;32m     13\u001b[0m file_name \u001b[39m=\u001b[39m \u001b[39m'\u001b[39m\u001b[39mdata/genres-data-full/genres-\u001b[39m\u001b[39m'\u001b[39m \u001b[39m+\u001b[39m \u001b[39mstr\u001b[39m(\u001b[39mint\u001b[39m(i\u001b[39m/\u001b[39m\u001b[39m1000\u001b[39m)) \u001b[39m+\u001b[39m \u001b[39m'\u001b[39m\u001b[39m.json\u001b[39m\u001b[39m'\u001b[39m\n\u001b[1;32m     15\u001b[0m \u001b[39mwith\u001b[39;00m \u001b[39mopen\u001b[39m(file_name,\u001b[39m'\u001b[39m\u001b[39mw\u001b[39m\u001b[39m'\u001b[39m) \u001b[39mas\u001b[39;00m output_file:\n",
      "File \u001b[0;32m~/Documents/IndependentStudy/helper.py:9\u001b[0m, in \u001b[0;36mget_genres\u001b[0;34m(url, headers)\u001b[0m\n\u001b[1;32m      7\u001b[0m \u001b[39mdef\u001b[39;00m \u001b[39mget_genres\u001b[39m(url, headers \u001b[39m=\u001b[39m HEADER):\n\u001b[1;32m      8\u001b[0m     r \u001b[39m=\u001b[39m requests\u001b[39m.\u001b[39mget(url, headers \u001b[39m=\u001b[39m headers)\n\u001b[0;32m----> 9\u001b[0m     bs \u001b[39m=\u001b[39m BeautifulSoup(r\u001b[39m.\u001b[39;49mtext, features\u001b[39m=\u001b[39;49m\u001b[39m\"\u001b[39;49m\u001b[39mlxml\u001b[39;49m\u001b[39m\"\u001b[39;49m)\n\u001b[1;32m     10\u001b[0m     \u001b[39mtry\u001b[39;00m: \n\u001b[1;32m     11\u001b[0m         genre_element \u001b[39m=\u001b[39m bs\u001b[39m.\u001b[39mfind(\u001b[39m'\u001b[39m\u001b[39mdiv\u001b[39m\u001b[39m'\u001b[39m,{\u001b[39m'\u001b[39m\u001b[39mdata-testid\u001b[39m\u001b[39m'\u001b[39m:\u001b[39m'\u001b[39m\u001b[39mgenresList\u001b[39m\u001b[39m'\u001b[39m})\u001b[39m.\u001b[39mfind_all(\u001b[39m'\u001b[39m\u001b[39ma\u001b[39m\u001b[39m'\u001b[39m)\n",
      "File \u001b[0;32m~/.local/lib/python3.8/site-packages/bs4/__init__.py:248\u001b[0m, in \u001b[0;36mBeautifulSoup.__init__\u001b[0;34m(self, markup, features, builder, parse_only, from_encoding, exclude_encodings, element_classes, **kwargs)\u001b[0m\n\u001b[1;32m    246\u001b[0m     builder_class \u001b[39m=\u001b[39m builder_registry\u001b[39m.\u001b[39mlookup(\u001b[39m*\u001b[39mfeatures)\n\u001b[1;32m    247\u001b[0m     \u001b[39mif\u001b[39;00m builder_class \u001b[39mis\u001b[39;00m \u001b[39mNone\u001b[39;00m:\n\u001b[0;32m--> 248\u001b[0m         \u001b[39mraise\u001b[39;00m FeatureNotFound(\n\u001b[1;32m    249\u001b[0m             \u001b[39m\"\u001b[39m\u001b[39mCouldn\u001b[39m\u001b[39m'\u001b[39m\u001b[39mt find a tree builder with the features you \u001b[39m\u001b[39m\"\u001b[39m\n\u001b[1;32m    250\u001b[0m             \u001b[39m\"\u001b[39m\u001b[39mrequested: \u001b[39m\u001b[39m%s\u001b[39;00m\u001b[39m. Do you need to install a parser library?\u001b[39m\u001b[39m\"\u001b[39m\n\u001b[1;32m    251\u001b[0m             \u001b[39m%\u001b[39m \u001b[39m\"\u001b[39m\u001b[39m,\u001b[39m\u001b[39m\"\u001b[39m\u001b[39m.\u001b[39mjoin(features))\n\u001b[1;32m    253\u001b[0m \u001b[39m# At this point either we have a TreeBuilder instance in\u001b[39;00m\n\u001b[1;32m    254\u001b[0m \u001b[39m# builder, or we have a builder_class that we can instantiate\u001b[39;00m\n\u001b[1;32m    255\u001b[0m \u001b[39m# with the remaining **kwargs.\u001b[39;00m\n\u001b[1;32m    256\u001b[0m \u001b[39mif\u001b[39;00m builder \u001b[39mis\u001b[39;00m \u001b[39mNone\u001b[39;00m:\n",
      "\u001b[0;31mFeatureNotFound\u001b[0m: Couldn't find a tree builder with the features you requested: lxml. Do you need to install a parser library?"
     ]
    }
   ],
   "source": [
    "import json\n",
    "import time\n",
    "import helper\n",
    "\n",
    "done = False\n",
    "i = 0\n",
    "\n",
    "while not done:\n",
    "    row_dict = {}\n",
    "    for row_index, row_series in metadata_df[['item_id','url']][i:i+1000].iterrows():\n",
    "        row_dict[row_series[0]] = helper.get_genres(row_series[1])\n",
    "        \n",
    "    file_name = 'data/genres-data-full/genres-' + str(int(i/1000)) + '.json'\n",
    "    \n",
    "    with open(file_name,'w') as output_file:\n",
    "        json.dump(row_dict, output_file)\n",
    "        \n",
    "    print(i, \"/9374 items completed\")\n",
    "    i+=1000\n",
    "    time.sleep(40)\n",
    "    \n",
    "    if i == 9000:\n",
    "        for row_index, row_series in metadata_df[['item_id','url']][i:].iterrows():\n",
    "            row_dict[row_series[0]] = get_genres(row_series[1])\n",
    "        file_name = 'data/genres-data-full/genres-' + str(int(i/1000)) + '.json'\n",
    "        with open(file_name,'w') as output_file:\n",
    "            json.dump(row_dict, output_file)\n",
    "        print(\"9374/9374 items completed\")\n",
    "        done = True"
   ]
  },
  {
   "cell_type": "markdown",
   "metadata": {
    "id": "SUPv-FmGvDXF"
   },
   "source": [
    "# Scrape weight of book genres"
   ]
  },
  {
   "cell_type": "code",
   "execution_count": null,
   "metadata": {
    "colab": {
     "base_uri": "https://localhost:8080/",
     "height": 37
    },
    "executionInfo": {
     "elapsed": 117,
     "status": "ok",
     "timestamp": 1675638040342,
     "user": {
      "displayName": "Krystal Ly",
      "userId": "10859342568194930352"
     },
     "user_tz": 300
    },
    "id": "3PpwT11JvIoR",
    "outputId": "12b0d653-89a6-401a-9685-dae3319dcda3"
   },
   "outputs": [
    {
     "data": {
      "text/plain": [
       "'data/genres-data-full/genres-0.json'"
      ]
     },
     "execution_count": 1,
     "metadata": {},
     "output_type": "execute_result"
    }
   ],
   "source": [
    "import json\n",
    "\n",
    "file_names = ['data/genres-data-full/genres-' + str(i) + '.json' for i in range(0,10)]\n",
    "file_names[0]"
   ]
  },
  {
   "cell_type": "code",
   "execution_count": null,
   "metadata": {
    "executionInfo": {
     "elapsed": 2323,
     "status": "ok",
     "timestamp": 1675638241594,
     "user": {
      "displayName": "Krystal Ly",
      "userId": "10859342568194930352"
     },
     "user_tz": 300
    },
    "id": "GU7_WGcnv5PE"
   },
   "outputs": [],
   "source": [
    "all_dols = {}\n",
    "for i in range(0,10):\n",
    "    with open(file_names[i],'r') as input_file:\n",
    "        dol = json.load(input_file)\n",
    "        all_dols.update(dol)"
   ]
  },
  {
   "cell_type": "code",
   "execution_count": null,
   "metadata": {},
   "outputs": [],
   "source": [
    "import time\n",
    "import helper\n",
    "\n",
    "book_dod = {}\n",
    "i = 0\n",
    "\n",
    "for key, value in all_dols.items():\n",
    "    \n",
    "    book_dod[key] = helper.get_weighted_genre(key, value)\n",
    "    \n",
    "    if i % 250 == 0:\n",
    "        print(str(i) + \"/9374 books are done\")\n",
    "        time.sleep(5)\n",
    "    i+=1"
   ]
  },
  {
   "cell_type": "code",
   "execution_count": null,
   "metadata": {},
   "outputs": [
    {
     "ename": "NameError",
     "evalue": "name 'book_dod' is not defined",
     "output_type": "error",
     "traceback": [
      "\u001b[0;31m---------------------------------------------------------------------------\u001b[0m",
      "\u001b[0;31mNameError\u001b[0m                                 Traceback (most recent call last)",
      "Cell \u001b[0;32mIn[5], line 4\u001b[0m\n\u001b[1;32m      1\u001b[0m \u001b[39mimport\u001b[39;00m \u001b[39mjson\u001b[39;00m\n\u001b[1;32m      3\u001b[0m \u001b[39mwith\u001b[39;00m \u001b[39mopen\u001b[39m(\u001b[39m'\u001b[39m\u001b[39mweighted_genre.json\u001b[39m\u001b[39m'\u001b[39m,\u001b[39m'\u001b[39m\u001b[39mw\u001b[39m\u001b[39m'\u001b[39m) \u001b[39mas\u001b[39;00m output_file:\n\u001b[0;32m----> 4\u001b[0m     json\u001b[39m.\u001b[39mdump(book_dod, output_file)\n",
      "\u001b[0;31mNameError\u001b[0m: name 'book_dod' is not defined"
     ]
    }
   ],
   "source": [
    "import json\n",
    "\n",
    "with open('weighted_genre.json','w') as output_file:\n",
    "    json.dump(book_dod, output_file)"
   ]
  },
  {
   "cell_type": "markdown",
   "metadata": {},
   "source": [
    "# Scrape Missing Data"
   ]
  },
  {
   "cell_type": "code",
   "execution_count": null,
   "metadata": {},
   "outputs": [],
   "source": [
    "import json\n",
    "\n",
    "with open('data/weighted_genre.json') as input_file:\n",
    "    wg_json = json.load(input_file)"
   ]
  },
  {
   "cell_type": "code",
   "execution_count": null,
   "metadata": {},
   "outputs": [
    {
     "data": {
      "text/html": [
       "<div>\n",
       "<style scoped>\n",
       "    .dataframe tbody tr th:only-of-type {\n",
       "        vertical-align: middle;\n",
       "    }\n",
       "\n",
       "    .dataframe tbody tr th {\n",
       "        vertical-align: top;\n",
       "    }\n",
       "\n",
       "    .dataframe thead th {\n",
       "        text-align: right;\n",
       "    }\n",
       "</style>\n",
       "<table border=\"1\" class=\"dataframe\">\n",
       "  <thead>\n",
       "    <tr style=\"text-align: right;\">\n",
       "      <th></th>\n",
       "      <th>young-adult</th>\n",
       "      <th>romance</th>\n",
       "      <th>fiction</th>\n",
       "      <th>contemporary</th>\n",
       "      <th>realistic-fiction</th>\n",
       "      <th>teen</th>\n",
       "      <th>coming-of-age</th>\n",
       "      <th>fantasy</th>\n",
       "      <th>dystopia</th>\n",
       "      <th>science-fiction</th>\n",
       "      <th>...</th>\n",
       "      <th>romanovs</th>\n",
       "      <th>new-adult-romance</th>\n",
       "      <th>womens</th>\n",
       "      <th>agriculture</th>\n",
       "      <th>sustainability</th>\n",
       "      <th>trains</th>\n",
       "      <th>wonder-woman</th>\n",
       "      <th>computer-science</th>\n",
       "      <th>rwanda</th>\n",
       "      <th>utopia</th>\n",
       "    </tr>\n",
       "  </thead>\n",
       "  <tbody>\n",
       "    <tr>\n",
       "      <th>16827462</th>\n",
       "      <td>22,752</td>\n",
       "      <td>14,714</td>\n",
       "      <td>12,425</td>\n",
       "      <td>7,839</td>\n",
       "      <td>2,537</td>\n",
       "      <td>1,335</td>\n",
       "      <td>1,165</td>\n",
       "      <td>NaN</td>\n",
       "      <td>NaN</td>\n",
       "      <td>NaN</td>\n",
       "      <td>...</td>\n",
       "      <td>NaN</td>\n",
       "      <td>NaN</td>\n",
       "      <td>NaN</td>\n",
       "      <td>NaN</td>\n",
       "      <td>NaN</td>\n",
       "      <td>NaN</td>\n",
       "      <td>NaN</td>\n",
       "      <td>NaN</td>\n",
       "      <td>NaN</td>\n",
       "      <td>NaN</td>\n",
       "    </tr>\n",
       "    <tr>\n",
       "      <th>2792775</th>\n",
       "      <td>33,322</td>\n",
       "      <td>4,612</td>\n",
       "      <td>19,505</td>\n",
       "      <td>NaN</td>\n",
       "      <td>NaN</td>\n",
       "      <td>NaN</td>\n",
       "      <td>NaN</td>\n",
       "      <td>16,141</td>\n",
       "      <td>13,952</td>\n",
       "      <td>11,551</td>\n",
       "      <td>...</td>\n",
       "      <td>NaN</td>\n",
       "      <td>NaN</td>\n",
       "      <td>NaN</td>\n",
       "      <td>NaN</td>\n",
       "      <td>NaN</td>\n",
       "      <td>NaN</td>\n",
       "      <td>NaN</td>\n",
       "      <td>NaN</td>\n",
       "      <td>NaN</td>\n",
       "      <td>NaN</td>\n",
       "    </tr>\n",
       "    <tr>\n",
       "      <th>8812783</th>\n",
       "      <td>26,507</td>\n",
       "      <td>3,340</td>\n",
       "      <td>13,850</td>\n",
       "      <td>NaN</td>\n",
       "      <td>NaN</td>\n",
       "      <td>NaN</td>\n",
       "      <td>NaN</td>\n",
       "      <td>11,423</td>\n",
       "      <td>11,500</td>\n",
       "      <td>8,525</td>\n",
       "      <td>...</td>\n",
       "      <td>NaN</td>\n",
       "      <td>NaN</td>\n",
       "      <td>NaN</td>\n",
       "      <td>NaN</td>\n",
       "      <td>NaN</td>\n",
       "      <td>NaN</td>\n",
       "      <td>NaN</td>\n",
       "      <td>NaN</td>\n",
       "      <td>NaN</td>\n",
       "      <td>NaN</td>\n",
       "    </tr>\n",
       "    <tr>\n",
       "      <th>41107568</th>\n",
       "      <td>NaN</td>\n",
       "      <td>NaN</td>\n",
       "      <td>11,173</td>\n",
       "      <td>1,688</td>\n",
       "      <td>NaN</td>\n",
       "      <td>NaN</td>\n",
       "      <td>NaN</td>\n",
       "      <td>NaN</td>\n",
       "      <td>NaN</td>\n",
       "      <td>NaN</td>\n",
       "      <td>...</td>\n",
       "      <td>NaN</td>\n",
       "      <td>NaN</td>\n",
       "      <td>NaN</td>\n",
       "      <td>NaN</td>\n",
       "      <td>NaN</td>\n",
       "      <td>NaN</td>\n",
       "      <td>NaN</td>\n",
       "      <td>NaN</td>\n",
       "      <td>NaN</td>\n",
       "      <td>NaN</td>\n",
       "    </tr>\n",
       "    <tr>\n",
       "      <th>6171458</th>\n",
       "      <td>28,081</td>\n",
       "      <td>3,701</td>\n",
       "      <td>14,806</td>\n",
       "      <td>NaN</td>\n",
       "      <td>NaN</td>\n",
       "      <td>NaN</td>\n",
       "      <td>NaN</td>\n",
       "      <td>12,384</td>\n",
       "      <td>12,042</td>\n",
       "      <td>9,075</td>\n",
       "      <td>...</td>\n",
       "      <td>NaN</td>\n",
       "      <td>NaN</td>\n",
       "      <td>NaN</td>\n",
       "      <td>NaN</td>\n",
       "      <td>NaN</td>\n",
       "      <td>NaN</td>\n",
       "      <td>NaN</td>\n",
       "      <td>NaN</td>\n",
       "      <td>NaN</td>\n",
       "      <td>NaN</td>\n",
       "    </tr>\n",
       "  </tbody>\n",
       "</table>\n",
       "<p>5 rows × 458 columns</p>\n",
       "</div>"
      ],
      "text/plain": [
       "         young-adult romance fiction contemporary realistic-fiction   teen  \\\n",
       "16827462      22,752  14,714  12,425        7,839             2,537  1,335   \n",
       "2792775       33,322   4,612  19,505          NaN               NaN    NaN   \n",
       "8812783       26,507   3,340  13,850          NaN               NaN    NaN   \n",
       "41107568         NaN     NaN  11,173        1,688               NaN    NaN   \n",
       "6171458       28,081   3,701  14,806          NaN               NaN    NaN   \n",
       "\n",
       "         coming-of-age fantasy dystopia science-fiction  ... romanovs  \\\n",
       "16827462         1,165     NaN      NaN             NaN  ...      NaN   \n",
       "2792775            NaN  16,141   13,952          11,551  ...      NaN   \n",
       "8812783            NaN  11,423   11,500           8,525  ...      NaN   \n",
       "41107568           NaN     NaN      NaN             NaN  ...      NaN   \n",
       "6171458            NaN  12,384   12,042           9,075  ...      NaN   \n",
       "\n",
       "         new-adult-romance womens agriculture sustainability trains  \\\n",
       "16827462               NaN    NaN         NaN            NaN    NaN   \n",
       "2792775                NaN    NaN         NaN            NaN    NaN   \n",
       "8812783                NaN    NaN         NaN            NaN    NaN   \n",
       "41107568               NaN    NaN         NaN            NaN    NaN   \n",
       "6171458                NaN    NaN         NaN            NaN    NaN   \n",
       "\n",
       "         wonder-woman computer-science rwanda utopia  \n",
       "16827462          NaN              NaN    NaN    NaN  \n",
       "2792775           NaN              NaN    NaN    NaN  \n",
       "8812783           NaN              NaN    NaN    NaN  \n",
       "41107568          NaN              NaN    NaN    NaN  \n",
       "6171458           NaN              NaN    NaN    NaN  \n",
       "\n",
       "[5 rows x 458 columns]"
      ]
     },
     "execution_count": 142,
     "metadata": {},
     "output_type": "execute_result"
    }
   ],
   "source": [
    "import pandas as pd\n",
    "\n",
    "wg_df = pd.DataFrame(wg_json).T\n",
    "wg_df.head(5)"
   ]
  },
  {
   "cell_type": "markdown",
   "metadata": {},
   "source": [
    "## Data Cleaning"
   ]
  },
  {
   "cell_type": "code",
   "execution_count": null,
   "metadata": {},
   "outputs": [],
   "source": [
    "def fix_numbers(num):\n",
    "    if isinstance(num, str):\n",
    "        num = num.replace(',','')\n",
    "        return int(num)\n",
    "    else:\n",
    "        return 0"
   ]
  },
  {
   "cell_type": "code",
   "execution_count": null,
   "metadata": {},
   "outputs": [],
   "source": [
    "wg_df = wg_df.applymap(fix_numbers)"
   ]
  },
  {
   "cell_type": "code",
   "execution_count": null,
   "metadata": {},
   "outputs": [],
   "source": [
    "missing_nans = list(wg_df[wg_df.sum(axis = 1)== 0].index)"
   ]
  },
  {
   "cell_type": "code",
   "execution_count": null,
   "metadata": {},
   "outputs": [
    {
     "data": {
      "text/plain": [
       "['52959357',\n",
       " '15677347',\n",
       " '2247074',\n",
       " '40159220',\n",
       " '17054802',\n",
       " '56065453',\n",
       " '51979220',\n",
       " '44033312']"
      ]
     },
     "execution_count": 146,
     "metadata": {},
     "output_type": "execute_result"
    }
   ],
   "source": [
    "missing_nans"
   ]
  },
  {
   "cell_type": "code",
   "execution_count": null,
   "metadata": {},
   "outputs": [],
   "source": [
    "import pandas as pd\n",
    "\n",
    "metadata_df = pd.read_csv('data/metadata.csv', index_col = 0)\n",
    "metadata_df['item_id'] = metadata_df['item_id'].astype('str')"
   ]
  },
  {
   "cell_type": "code",
   "execution_count": null,
   "metadata": {},
   "outputs": [
    {
     "data": {
      "text/html": [
       "<div>\n",
       "<style scoped>\n",
       "    .dataframe tbody tr th:only-of-type {\n",
       "        vertical-align: middle;\n",
       "    }\n",
       "\n",
       "    .dataframe tbody tr th {\n",
       "        vertical-align: top;\n",
       "    }\n",
       "\n",
       "    .dataframe thead th {\n",
       "        text-align: right;\n",
       "    }\n",
       "</style>\n",
       "<table border=\"1\" class=\"dataframe\">\n",
       "  <thead>\n",
       "    <tr style=\"text-align: right;\">\n",
       "      <th></th>\n",
       "      <th>item_id</th>\n",
       "      <th>url</th>\n",
       "      <th>title</th>\n",
       "      <th>authors</th>\n",
       "      <th>lang</th>\n",
       "      <th>img</th>\n",
       "      <th>year</th>\n",
       "      <th>description</th>\n",
       "    </tr>\n",
       "  </thead>\n",
       "  <tbody>\n",
       "    <tr>\n",
       "      <th>2863</th>\n",
       "      <td>52959357</td>\n",
       "      <td>https://www.goodreads.com/book/show/34273236-l...</td>\n",
       "      <td>Little Fires Everywhere</td>\n",
       "      <td>Celeste Ng</td>\n",
       "      <td>eng</td>\n",
       "      <td>https://images.gr-assets.com/books/1490351351m...</td>\n",
       "      <td>2017</td>\n",
       "      <td>In Shaker Heights, a placid, progressive subur...</td>\n",
       "    </tr>\n",
       "    <tr>\n",
       "      <th>4959</th>\n",
       "      <td>15677347</td>\n",
       "      <td>https://www.goodreads.com/book/show/10765906-t...</td>\n",
       "      <td>The Shadow Reader (Shadow Reader, #1)</td>\n",
       "      <td>Sandy Williams</td>\n",
       "      <td>en-US</td>\n",
       "      <td>https://images.gr-assets.com/books/1316820446m...</td>\n",
       "      <td>2011</td>\n",
       "      <td>There can only be one allegiance.\\nIt's her ti...</td>\n",
       "    </tr>\n",
       "    <tr>\n",
       "      <th>5372</th>\n",
       "      <td>2247074</td>\n",
       "      <td>https://www.goodreads.com/book/show/32085.All_...</td>\n",
       "      <td>All Creatures Great and Small (All Creatures G...</td>\n",
       "      <td>James Herriot</td>\n",
       "      <td>eng</td>\n",
       "      <td>https://s.gr-assets.com/assets/nophoto/book/11...</td>\n",
       "      <td>0</td>\n",
       "      <td>The classic multimillion copy bestseller\\nDelv...</td>\n",
       "    </tr>\n",
       "  </tbody>\n",
       "</table>\n",
       "</div>"
      ],
      "text/plain": [
       "       item_id                                                url  \\\n",
       "2863  52959357  https://www.goodreads.com/book/show/34273236-l...   \n",
       "4959  15677347  https://www.goodreads.com/book/show/10765906-t...   \n",
       "5372   2247074  https://www.goodreads.com/book/show/32085.All_...   \n",
       "\n",
       "                                                  title         authors  \\\n",
       "2863                            Little Fires Everywhere      Celeste Ng   \n",
       "4959              The Shadow Reader (Shadow Reader, #1)  Sandy Williams   \n",
       "5372  All Creatures Great and Small (All Creatures G...   James Herriot   \n",
       "\n",
       "       lang                                                img  year  \\\n",
       "2863    eng  https://images.gr-assets.com/books/1490351351m...  2017   \n",
       "4959  en-US  https://images.gr-assets.com/books/1316820446m...  2011   \n",
       "5372    eng  https://s.gr-assets.com/assets/nophoto/book/11...     0   \n",
       "\n",
       "                                            description  \n",
       "2863  In Shaker Heights, a placid, progressive subur...  \n",
       "4959  There can only be one allegiance.\\nIt's her ti...  \n",
       "5372  The classic multimillion copy bestseller\\nDelv...  "
      ]
     },
     "execution_count": 148,
     "metadata": {},
     "output_type": "execute_result"
    }
   ],
   "source": [
    "missing_df = metadata_df[metadata_df['item_id'].isin(missing_nans)]\n",
    "missing_df.head(3)"
   ]
  },
  {
   "cell_type": "code",
   "execution_count": null,
   "metadata": {},
   "outputs": [
    {
     "name": "stdout",
     "output_type": "stream",
     "text": [
      "259/259 books done\n"
     ]
    }
   ],
   "source": [
    "import helper\n",
    "dol = {}\n",
    "\n",
    "i = 0\n",
    "for row_idx, row_series in missing_df.iterrows():\n",
    "    dol[row_series[0]] = helper.get_genres(row_series[1])\n",
    "    \n",
    "    i+=1\n",
    "    if i % 50 == 0:\n",
    "        print(str(i) + '/259 books done')\n",
    "print('259/259 books done')"
   ]
  },
  {
   "cell_type": "code",
   "execution_count": null,
   "metadata": {},
   "outputs": [],
   "source": [
    "import numpy as np \n",
    "\n",
    "for key,value in dol.items():\n",
    "    if value == np.nan:\n",
    "        print(value)"
   ]
  },
  {
   "cell_type": "code",
   "execution_count": null,
   "metadata": {},
   "outputs": [
    {
     "name": "stderr",
     "output_type": "stream",
     "text": [
      "/Volumes/Users/ly_k1/Documents/IndependentStudy/scraping_lib.py:27: GuessedAtParserWarning: No parser was explicitly specified, so I'm using the best available HTML parser for this system (\"lxml\"). This usually isn't a problem, but if you run this code on another system, or in a different virtual environment, it may use a different parser and behave differently.\n",
      "\n",
      "The code that caused this warning is on line 27 of the file /Volumes/Users/ly_k1/Documents/IndependentStudy/scraping_lib.py. To get rid of this warning, pass the additional argument 'features=\"lxml\"' to the BeautifulSoup constructor.\n",
      "\n",
      "  bs = BeautifulSoup(r.text)\n"
     ]
    },
    {
     "name": "stdout",
     "output_type": "stream",
     "text": [
      "0/259 books are done\n",
      "259/259 books done\n"
     ]
    }
   ],
   "source": [
    "import helper\n",
    "\n",
    "missing_dod = {}\n",
    "i = 0 \n",
    "\n",
    "for key, value in dol.items():\n",
    "    \n",
    "    missing_dod[key] = helper.get_weighted_genre(str(key), value)\n",
    "    \n",
    "    if i % 50 == 0:\n",
    "        print(str(i) + \"/259 books are done\")\n",
    "    i+=1\n",
    "print('259/259 books done')"
   ]
  },
  {
   "cell_type": "code",
   "execution_count": null,
   "metadata": {},
   "outputs": [],
   "source": [
    "for key, value in missing_dod.items():\n",
    "    wg_json[key] = value"
   ]
  },
  {
   "cell_type": "code",
   "execution_count": null,
   "metadata": {},
   "outputs": [],
   "source": [
    "with open('weighted_genre.json','w') as output_file:\n",
    "    json.dump(wg_json, output_file)"
   ]
  },
  {
   "cell_type": "markdown",
   "metadata": {
    "id": "Y_OCsp_A50uN"
   },
   "source": [
    "## Scrape Missing Release Year"
   ]
  },
  {
   "cell_type": "code",
   "execution_count": null,
   "metadata": {
    "id": "0iyY5pLk53oC"
   },
   "outputs": [],
   "source": [
    "from bs4 import BeautifulSoup\n",
    "import requests\n",
    "import numpy as np\n",
    "import re\n",
    "\n",
    "user_agent = 'Mozilla/5.0 (Macintosh; Intel Mac OS X 10_15_7) AppleWebKit/605.1.15 (KHTML, like Gecko) Version/14.1.2 Safari/605.1.15'\n",
    "headers = {'User-Agent': user_agent}\n",
    "\n",
    "def get_year(item_id, url):\n",
    "    times = 0\n",
    "    while times <= 10:\n",
    "        try:\n",
    "            r = requests.get(url, headers = headers)\n",
    "            bs = BeautifulSoup(r.text)\n",
    "            target = bs.find('div', class_ = 'uitext darkGreyText', id = 'details').text\n",
    "            pattern = r'Published(?:.|\\n)+(\\d{4})(?:.|\\n)+More Details'\n",
    "            year = int(re.findall(pattern, target)[0])\n",
    "            return [item_id, year]\n",
    "        except:\n",
    "            times+=1\n",
    "            continue\n",
    "    return [np.nan, np.nan]"
   ]
  },
  {
   "cell_type": "code",
   "execution_count": null,
   "metadata": {
    "id": "WjVyTtcakr33"
   },
   "outputs": [],
   "source": [
    "import pandas as pd\n",
    "metadata_df = pd.read_csv('data/metadata_with_genres.csv', index_col = 0)"
   ]
  },
  {
   "cell_type": "code",
   "execution_count": null,
   "metadata": {
    "id": "iXJUNuXqks2z"
   },
   "outputs": [],
   "source": [
    "item_id_list = list(metadata_df[metadata_df['year'] == 0]['item_id'])\n",
    "url_list = list(metadata_df[metadata_df['year'] == 0]['url'])"
   ]
  },
  {
   "cell_type": "code",
   "execution_count": null,
   "metadata": {
    "colab": {
     "background_save": true
    },
    "id": "DG9JJlaE58rC"
   },
   "outputs": [],
   "source": [
    "row_list = []\n",
    "for i in range(len(url_list)):\n",
    "    row_list.append(get_year(item_id_list[i], url_list[i]))"
   ]
  },
  {
   "cell_type": "code",
   "execution_count": null,
   "metadata": {
    "colab": {
     "background_save": true
    },
    "id": "l3YPO8jhpmIS"
   },
   "outputs": [],
   "source": [
    "df = pd.DataFrame(row_list, columns=['item_id', 'year'])\n",
    "df.to_csv('data/missing-year.csv')"
   ]
  }
 ],
 "metadata": {
  "colab": {
   "authorship_tag": "ABX9TyMiVx4/YAnCaxeO8cVhxA0N",
   "mount_file_id": "11E1XLbg9lOO0Om_c9XmbolKxhv6vJMAq",
   "provenance": []
  },
  "kernelspec": {
   "display_name": "Python 3",
   "language": "python",
   "name": "python3"
  },
  "language_info": {
   "codemirror_mode": {
    "name": "ipython",
    "version": 3
   },
   "file_extension": ".py",
   "mimetype": "text/x-python",
   "name": "python",
   "nbconvert_exporter": "python",
   "pygments_lexer": "ipython3",
   "version": "3.8.10"
  },
  "vscode": {
   "interpreter": {
    "hash": "31f2aee4e71d21fbe5cf8b01ff0e069b9275f58929596ceb00d14d90e3e16cd6"
   }
  }
 },
 "nbformat": 4,
 "nbformat_minor": 1
}
