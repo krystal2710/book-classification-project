{
 "cells": [
  {
   "cell_type": "code",
   "execution_count": 1,
   "metadata": {
    "id": "zXkwPj6NyTsN"
   },
   "outputs": [
    {
     "ename": "FileNotFoundError",
     "evalue": "[Errno 2] No such file or directory: '/content/drive/MyDrive/IndependentStudy/BookProject'",
     "output_type": "error",
     "traceback": [
      "\u001b[0;31m---------------------------------------------------------------------------\u001b[0m",
      "\u001b[0;31mFileNotFoundError\u001b[0m                         Traceback (most recent call last)",
      "Cell \u001b[0;32mIn[1], line 3\u001b[0m\n\u001b[1;32m      1\u001b[0m \u001b[39mimport\u001b[39;00m \u001b[39mos\u001b[39;00m\n\u001b[1;32m      2\u001b[0m os\u001b[39m.\u001b[39mgetcwd()\n\u001b[0;32m----> 3\u001b[0m os\u001b[39m.\u001b[39;49mchdir(\u001b[39m'\u001b[39;49m\u001b[39m/content/drive/MyDrive/IndependentStudy/BookProject\u001b[39;49m\u001b[39m'\u001b[39;49m)\n",
      "\u001b[0;31mFileNotFoundError\u001b[0m: [Errno 2] No such file or directory: '/content/drive/MyDrive/IndependentStudy/BookProject'"
     ]
    }
   ],
   "source": [
    "import os\n",
    "os.getcwd()\n",
    "os.chdir('/content/drive/MyDrive/IndependentStudy/BookProject')"
   ]
  },
  {
   "cell_type": "markdown",
   "metadata": {
    "id": "eeDwDgEM0eJW"
   },
   "source": [
    "# Content of the Project\n",
    "\n",
    "1. Set Up\n",
    "2. Web-scraping\n",
    "3. Exploratory Data Analysis"
   ]
  },
  {
   "cell_type": "markdown",
   "metadata": {
    "id": "nzDcNktz5Fgj"
   },
   "source": [
    "## Read data"
   ]
  },
  {
   "cell_type": "code",
   "execution_count": 2,
   "metadata": {
    "colab": {
     "base_uri": "https://localhost:8080/",
     "height": 237
    },
    "executionInfo": {
     "elapsed": 1433,
     "status": "ok",
     "timestamp": 1674675904693,
     "user": {
      "displayName": "Krystal Ly",
      "userId": "10859342568194930352"
     },
     "user_tz": 300
    },
    "id": "gl2SKUFm0AAJ",
    "outputId": "095d5252-0a79-4e91-949b-74e4062275d6"
   },
   "outputs": [
    {
     "data": {
      "text/html": [
       "<div>\n",
       "<style scoped>\n",
       "    .dataframe tbody tr th:only-of-type {\n",
       "        vertical-align: middle;\n",
       "    }\n",
       "\n",
       "    .dataframe tbody tr th {\n",
       "        vertical-align: top;\n",
       "    }\n",
       "\n",
       "    .dataframe thead th {\n",
       "        text-align: right;\n",
       "    }\n",
       "</style>\n",
       "<table border=\"1\" class=\"dataframe\">\n",
       "  <thead>\n",
       "    <tr style=\"text-align: right;\">\n",
       "      <th></th>\n",
       "      <th>item_id</th>\n",
       "      <th>url</th>\n",
       "      <th>title</th>\n",
       "      <th>authors</th>\n",
       "      <th>lang</th>\n",
       "      <th>img</th>\n",
       "      <th>year</th>\n",
       "      <th>description</th>\n",
       "      <th>first_genre</th>\n",
       "      <th>second_genre</th>\n",
       "    </tr>\n",
       "  </thead>\n",
       "  <tbody>\n",
       "    <tr>\n",
       "      <th>0</th>\n",
       "      <td>16827462</td>\n",
       "      <td>https://www.goodreads.com/book/show/11870085-t...</td>\n",
       "      <td>The Fault in Our Stars</td>\n",
       "      <td>John Green</td>\n",
       "      <td>eng</td>\n",
       "      <td>https://images.gr-assets.com/books/1360206420m...</td>\n",
       "      <td>2012</td>\n",
       "      <td>There is an alternate cover edition \u0001.\\n\"I fel...</td>\n",
       "      <td>Young Adult</td>\n",
       "      <td>Romance</td>\n",
       "    </tr>\n",
       "    <tr>\n",
       "      <th>1</th>\n",
       "      <td>2792775</td>\n",
       "      <td>https://www.goodreads.com/book/show/2767052-th...</td>\n",
       "      <td>The Hunger Games (The Hunger Games, #1)</td>\n",
       "      <td>Suzanne Collins</td>\n",
       "      <td>eng</td>\n",
       "      <td>https://images.gr-assets.com/books/1447303603m...</td>\n",
       "      <td>2008</td>\n",
       "      <td>Winning will make you famous.\\nLosing means ce...</td>\n",
       "      <td>Young Adult</td>\n",
       "      <td>Fiction</td>\n",
       "    </tr>\n",
       "    <tr>\n",
       "      <th>2</th>\n",
       "      <td>8812783</td>\n",
       "      <td>https://www.goodreads.com/book/show/7260188-mo...</td>\n",
       "      <td>Mockingjay (The Hunger Games, #3)</td>\n",
       "      <td>Suzanne Collins</td>\n",
       "      <td>eng</td>\n",
       "      <td>https://images.gr-assets.com/books/1358275419m...</td>\n",
       "      <td>2010</td>\n",
       "      <td>My name is Katniss Everdeen.\\nWhy am I not dea...</td>\n",
       "      <td>Young Adult</td>\n",
       "      <td>Science Fiction</td>\n",
       "    </tr>\n",
       "  </tbody>\n",
       "</table>\n",
       "</div>"
      ],
      "text/plain": [
       "    item_id                                                url  \\\n",
       "0  16827462  https://www.goodreads.com/book/show/11870085-t...   \n",
       "1   2792775  https://www.goodreads.com/book/show/2767052-th...   \n",
       "2   8812783  https://www.goodreads.com/book/show/7260188-mo...   \n",
       "\n",
       "                                     title          authors lang  \\\n",
       "0                   The Fault in Our Stars       John Green  eng   \n",
       "1  The Hunger Games (The Hunger Games, #1)  Suzanne Collins  eng   \n",
       "2        Mockingjay (The Hunger Games, #3)  Suzanne Collins  eng   \n",
       "\n",
       "                                                 img  year  \\\n",
       "0  https://images.gr-assets.com/books/1360206420m...  2012   \n",
       "1  https://images.gr-assets.com/books/1447303603m...  2008   \n",
       "2  https://images.gr-assets.com/books/1358275419m...  2010   \n",
       "\n",
       "                                         description  first_genre  \\\n",
       "0  There is an alternate cover edition \u0001.\\n\"I fel...  Young Adult   \n",
       "1  Winning will make you famous.\\nLosing means ce...  Young Adult   \n",
       "2  My name is Katniss Everdeen.\\nWhy am I not dea...  Young Adult   \n",
       "\n",
       "      second_genre  \n",
       "0          Romance  \n",
       "1          Fiction  \n",
       "2  Science Fiction  "
      ]
     },
     "execution_count": 2,
     "metadata": {},
     "output_type": "execute_result"
    }
   ],
   "source": [
    "import pandas as pd\n",
    "\n",
    "metadata_df = pd.read_csv('data/metadata_with_genres.csv', index_col = 0)\n",
    "metadata_df.head(3)"
   ]
  },
  {
   "cell_type": "code",
   "execution_count": 3,
   "metadata": {
    "colab": {
     "base_uri": "https://localhost:8080/"
    },
    "executionInfo": {
     "elapsed": 13,
     "status": "ok",
     "timestamp": 1674675904694,
     "user": {
      "displayName": "Krystal Ly",
      "userId": "10859342568194930352"
     },
     "user_tz": 300
    },
    "id": "aKGs_p4a4VAC",
    "outputId": "09890095-ba2c-4805-a12f-4617cfd0252e"
   },
   "outputs": [
    {
     "name": "stdout",
     "output_type": "stream",
     "text": [
      "<class 'pandas.core.frame.DataFrame'>\n",
      "Int64Index: 9374 entries, 0 to 9373\n",
      "Data columns (total 10 columns):\n",
      " #   Column        Non-Null Count  Dtype \n",
      "---  ------        --------------  ----- \n",
      " 0   item_id       9374 non-null   int64 \n",
      " 1   url           9374 non-null   object\n",
      " 2   title         9374 non-null   object\n",
      " 3   authors       9374 non-null   object\n",
      " 4   lang          8818 non-null   object\n",
      " 5   img           9374 non-null   object\n",
      " 6   year          9374 non-null   int64 \n",
      " 7   description   9309 non-null   object\n",
      " 8   first_genre   9373 non-null   object\n",
      " 9   second_genre  9373 non-null   object\n",
      "dtypes: int64(2), object(8)\n",
      "memory usage: 805.6+ KB\n"
     ]
    }
   ],
   "source": [
    "metadata_df.info()"
   ]
  },
  {
   "cell_type": "code",
   "execution_count": 4,
   "metadata": {
    "colab": {
     "base_uri": "https://localhost:8080/",
     "height": 142
    },
    "executionInfo": {
     "elapsed": 14660,
     "status": "ok",
     "timestamp": 1674675919346,
     "user": {
      "displayName": "Krystal Ly",
      "userId": "10859342568194930352"
     },
     "user_tz": 300
    },
    "id": "OPqwYeQ_5AWO",
    "outputId": "f97a9cda-2e6f-4540-fc74-75d2bc579e58"
   },
   "outputs": [
    {
     "data": {
      "text/html": [
       "<div>\n",
       "<style scoped>\n",
       "    .dataframe tbody tr th:only-of-type {\n",
       "        vertical-align: middle;\n",
       "    }\n",
       "\n",
       "    .dataframe tbody tr th {\n",
       "        vertical-align: top;\n",
       "    }\n",
       "\n",
       "    .dataframe thead th {\n",
       "        text-align: right;\n",
       "    }\n",
       "</style>\n",
       "<table border=\"1\" class=\"dataframe\">\n",
       "  <thead>\n",
       "    <tr style=\"text-align: right;\">\n",
       "      <th></th>\n",
       "      <th>item_id</th>\n",
       "      <th>user_id</th>\n",
       "      <th>rating</th>\n",
       "    </tr>\n",
       "  </thead>\n",
       "  <tbody>\n",
       "    <tr>\n",
       "      <th>0</th>\n",
       "      <td>41335427</td>\n",
       "      <td>0</td>\n",
       "      <td>5</td>\n",
       "    </tr>\n",
       "    <tr>\n",
       "      <th>1</th>\n",
       "      <td>41335427</td>\n",
       "      <td>1</td>\n",
       "      <td>3</td>\n",
       "    </tr>\n",
       "    <tr>\n",
       "      <th>2</th>\n",
       "      <td>41335427</td>\n",
       "      <td>2</td>\n",
       "      <td>5</td>\n",
       "    </tr>\n",
       "  </tbody>\n",
       "</table>\n",
       "</div>"
      ],
      "text/plain": [
       "    item_id  user_id  rating\n",
       "0  41335427        0       5\n",
       "1  41335427        1       3\n",
       "2  41335427        2       5"
      ]
     },
     "execution_count": 4,
     "metadata": {},
     "output_type": "execute_result"
    }
   ],
   "source": [
    "ratings_df = pd.read_csv('data/ratings.csv', index_col = 0)\n",
    "ratings_df.head(3)"
   ]
  },
  {
   "cell_type": "code",
   "execution_count": 5,
   "metadata": {
    "colab": {
     "base_uri": "https://localhost:8080/"
    },
    "executionInfo": {
     "elapsed": 8,
     "status": "ok",
     "timestamp": 1674675919347,
     "user": {
      "displayName": "Krystal Ly",
      "userId": "10859342568194930352"
     },
     "user_tz": 300
    },
    "id": "J4ER7HSk6UW9",
    "outputId": "d5ae15ca-6492-4052-9e7b-debe8e8b7ca1"
   },
   "outputs": [
    {
     "data": {
      "text/plain": [
       "(5152656, 3)"
      ]
     },
     "execution_count": 5,
     "metadata": {},
     "output_type": "execute_result"
    }
   ],
   "source": [
    "ratings_df.shape"
   ]
  },
  {
   "cell_type": "code",
   "execution_count": 6,
   "metadata": {
    "colab": {
     "base_uri": "https://localhost:8080/",
     "height": 142
    },
    "executionInfo": {
     "elapsed": 7843,
     "status": "ok",
     "timestamp": 1674675927185,
     "user": {
      "displayName": "Krystal Ly",
      "userId": "10859342568194930352"
     },
     "user_tz": 300
    },
    "id": "Zx_BzxtS6b7E",
    "outputId": "7e341a5e-247f-48d0-cd60-bc413f515502"
   },
   "outputs": [
    {
     "data": {
      "text/html": [
       "<div>\n",
       "<style scoped>\n",
       "    .dataframe tbody tr th:only-of-type {\n",
       "        vertical-align: middle;\n",
       "    }\n",
       "\n",
       "    .dataframe tbody tr th {\n",
       "        vertical-align: top;\n",
       "    }\n",
       "\n",
       "    .dataframe thead th {\n",
       "        text-align: right;\n",
       "    }\n",
       "</style>\n",
       "<table border=\"1\" class=\"dataframe\">\n",
       "  <thead>\n",
       "    <tr style=\"text-align: right;\">\n",
       "      <th></th>\n",
       "      <th>tag</th>\n",
       "      <th>item_id</th>\n",
       "      <th>score</th>\n",
       "    </tr>\n",
       "  </thead>\n",
       "  <tbody>\n",
       "    <tr>\n",
       "      <th>0</th>\n",
       "      <td>samurai</td>\n",
       "      <td>16416771</td>\n",
       "      <td>0.000240</td>\n",
       "    </tr>\n",
       "    <tr>\n",
       "      <th>1</th>\n",
       "      <td>samurai</td>\n",
       "      <td>23756807</td>\n",
       "      <td>0.000189</td>\n",
       "    </tr>\n",
       "    <tr>\n",
       "      <th>2</th>\n",
       "      <td>samurai</td>\n",
       "      <td>24248331</td>\n",
       "      <td>0.000008</td>\n",
       "    </tr>\n",
       "  </tbody>\n",
       "</table>\n",
       "</div>"
      ],
      "text/plain": [
       "       tag   item_id     score\n",
       "0  samurai  16416771  0.000240\n",
       "1  samurai  23756807  0.000189\n",
       "2  samurai  24248331  0.000008"
      ]
     },
     "execution_count": 6,
     "metadata": {},
     "output_type": "execute_result"
    }
   ],
   "source": [
    "tags_df = pd.read_csv('data/tagdl.csv')\n",
    "tags_df.head(3)"
   ]
  },
  {
   "cell_type": "code",
   "execution_count": 7,
   "metadata": {
    "colab": {
     "base_uri": "https://localhost:8080/"
    },
    "executionInfo": {
     "elapsed": 11,
     "status": "ok",
     "timestamp": 1674675927186,
     "user": {
      "displayName": "Krystal Ly",
      "userId": "10859342568194930352"
     },
     "user_tz": 300
    },
    "id": "DWjo9CAd76Ty",
    "outputId": "c21b93e1-aff5-4496-8816-08132dbcf5b5"
   },
   "outputs": [
    {
     "data": {
      "text/plain": [
       "(6814898, 3)"
      ]
     },
     "execution_count": 7,
     "metadata": {},
     "output_type": "execute_result"
    }
   ],
   "source": [
    "tags_df.shape"
   ]
  },
  {
   "cell_type": "markdown",
   "metadata": {
    "id": "kBiGnOsZ3WEk"
   },
   "source": [
    "Book metadata: 9374 data points with 10 features including \n",
    "item_id, url, title, authors, lang, img, release year, description, primary and secondary genres\n",
    "\n",
    "Ratings data: 5,152,656 data points with 350,332 users\n",
    "\tEach data point represents each user’s rating for a specific book\n",
    "\n",
    "Tag genomes data: 6,814,898 data points\n",
    "\tEach data point represents each tag score for a specific book\n"
   ]
  },
  {
   "cell_type": "markdown",
   "metadata": {
    "id": "n9HBpBcc8tFv"
   },
   "source": [
    "## Preliminary Exploration"
   ]
  },
  {
   "cell_type": "markdown",
   "metadata": {
    "id": "YBLUxhNV8fQP"
   },
   "source": [
    "Limitations of the genre feature: Genres are voted by users so it could change through time. The data only reflected how users voted till November 5th 2022\n",
    "\n",
    "Metadata:\n",
    "- What are the different genres and the distribution?\n",
    "- When were the books released?\n",
    "- What are the languages of the book?\n",
    "\n",
    "Ratings:\n",
    "- How many users?\n",
    "- On average how many users rate a particular movie?\n",
    "\n",
    "Tags:\n",
    "- How many tags?\n",
    "\n",
    "\n",
    "- Removing missing values, outliers, and unnecessary rows/ columns.\n",
    "- Re-indexing and reformatting our data.\n",
    "- Univariate analysis\n",
    "- Bivariate analysis\n"
   ]
  },
  {
   "cell_type": "markdown",
   "metadata": {
    "id": "C_Y6EvEkpH5m"
   },
   "source": [
    "### Metadata"
   ]
  },
  {
   "cell_type": "markdown",
   "metadata": {
    "id": "XhlrHl042tSh"
   },
   "source": [
    "#### Genre"
   ]
  },
  {
   "cell_type": "code",
   "execution_count": 15,
   "metadata": {
    "colab": {
     "base_uri": "https://localhost:8080/",
     "height": 362
    },
    "executionInfo": {
     "elapsed": 1048,
     "status": "ok",
     "timestamp": 1674676094020,
     "user": {
      "displayName": "Krystal Ly",
      "userId": "10859342568194930352"
     },
     "user_tz": 300
    },
    "id": "gbADKCmX_Wt7",
    "outputId": "ca64df19-56d1-4124-e1bd-afdea74af6da"
   },
   "outputs": [
    {
     "data": {
      "image/png": "[encoded data removed]",
      "text/plain": [
       "<Figure size 640x480 with 1 Axes>"
      ]
     },
     "metadata": {},
     "output_type": "display_data"
    }
   ],
   "source": [
    "from matplotlib import pyplot as plt\n",
    "metadata_df['first_genre'].value_counts().plot(kind = 'bar')\n",
    "plt.title('Distribution of the most voted genres')\n",
    "plt.xticks(fontsize = 9)\n",
    "plt.show()\n"
   ]
  },
  {
   "cell_type": "code",
   "execution_count": 16,
   "metadata": {
    "colab": {
     "base_uri": "https://localhost:8080/"
    },
    "executionInfo": {
     "elapsed": 4,
     "status": "ok",
     "timestamp": 1674619935812,
     "user": {
      "displayName": "Krystal Ly",
      "userId": "10859342568194930352"
     },
     "user_tz": 300
    },
    "id": "U5ByoIR4_iZY",
    "outputId": "aa413aad-067e-4cec-f20b-6117dc2786b9"
   },
   "outputs": [
    {
     "data": {
      "text/plain": [
       "Fantasy               1613\n",
       "Romance               1438\n",
       "Fiction               1347\n",
       "Young Adult           1174\n",
       "Mystery                604\n",
       "Nonfiction             546\n",
       "Historical             455\n",
       "Science Fiction        314\n",
       "Sequential Art         279\n",
       "Classics               261\n",
       "Horror                 219\n",
       "Childrens              145\n",
       "Thriller               122\n",
       "New Adult              102\n",
       "Womens Fiction          80\n",
       "Paranormal              80\n",
       "History                 59\n",
       "Dark                    59\n",
       "Humor                   45\n",
       "Short Stories           43\n",
       "Autobiography           42\n",
       "Poetry                  32\n",
       "Contemporary            23\n",
       "Business                21\n",
       "Media Tie In            18\n",
       "Science                 18\n",
       "Biography               16\n",
       "Realistic Fiction       15\n",
       "Self Help               14\n",
       "Erotica                 14\n",
       "Language                13\n",
       "LGBT                    13\n",
       "Sports                  11\n",
       "Historical Fiction      11\n",
       "Philosophy              10\n",
       "Holiday                 10\n",
       "Christian                9\n",
       "Plays                    9\n",
       "Travel                   8\n",
       "Adult Fiction            8\n",
       "Psychology               7\n",
       "Christian Fiction        6\n",
       "Music                    6\n",
       "Economics                6\n",
       "Parenting                5\n",
       "Food and Drink           5\n",
       "Crime                    5\n",
       "Health                   4\n",
       "Spirituality             3\n",
       "Shapeshifters            3\n",
       "Name: first_genre, dtype: int64"
      ]
     },
     "execution_count": 16,
     "metadata": {},
     "output_type": "execute_result"
    }
   ],
   "source": [
    "metadata_df['first_genre'].value_counts()[0:50]"
   ]
  },
  {
   "cell_type": "code",
   "execution_count": 17,
   "metadata": {
    "colab": {
     "base_uri": "https://localhost:8080/",
     "height": 346
    },
    "executionInfo": {
     "elapsed": 202,
     "status": "ok",
     "timestamp": 1674619936012,
     "user": {
      "displayName": "Krystal Ly",
      "userId": "10859342568194930352"
     },
     "user_tz": 300
    },
    "id": "xbOzNAs6BtKw",
    "outputId": "5ffb6dea-7173-44dd-e733-e346d0d33113"
   },
   "outputs": [
    {
     "data": {
      "image/png": "[encoded data removed]",
      "text/plain": [
       "<Figure size 640x480 with 1 Axes>"
      ]
     },
     "metadata": {},
     "output_type": "display_data"
    }
   ],
   "source": [
    "metadata_df['first_genre'].value_counts()[0:10].plot(kind = 'bar')\n",
    "plt.title('Distribution of top 10 primary genres')\n",
    "plt.show()"
   ]
  },
  {
   "cell_type": "markdown",
   "metadata": {
    "id": "Hq8WW6YtB2mI"
   },
   "source": [
    "There are 64 genres. Some genres has only 1 data point.\n",
    "- Fantasy, Romance, Fiction, Young Adult have 5572/9374 data points => multiclass classification task on 4 genres?\n",
    "- Since the genres are user-voted, it’s a mess."
   ]
  },
  {
   "cell_type": "code",
   "execution_count": 18,
   "metadata": {
    "colab": {
     "base_uri": "https://localhost:8080/",
     "height": 392
    },
    "executionInfo": {
     "elapsed": 1501,
     "status": "ok",
     "timestamp": 1674619937511,
     "user": {
      "displayName": "Krystal Ly",
      "userId": "10859342568194930352"
     },
     "user_tz": 300
    },
    "id": "ZbylF86BCKMu",
    "outputId": "c58571da-70c4-4ad3-98b8-895bd0cd7dd1"
   },
   "outputs": [
    {
     "data": {
      "image/png": "[encoded data removed]",
      "text/plain": [
       "<Figure size 640x480 with 1 Axes>"
      ]
     },
     "metadata": {},
     "output_type": "display_data"
    }
   ],
   "source": [
    "metadata_df['second_genre'].value_counts().plot(kind = 'bar')\n",
    "plt.title('Distribution of secondary genres')\n",
    "plt.show()\n"
   ]
  },
  {
   "cell_type": "code",
   "execution_count": 19,
   "metadata": {
    "colab": {
     "base_uri": "https://localhost:8080/"
    },
    "executionInfo": {
     "elapsed": 7,
     "status": "ok",
     "timestamp": 1674619937511,
     "user": {
      "displayName": "Krystal Ly",
      "userId": "10859342568194930352"
     },
     "user_tz": 300
    },
    "id": "nYtIWeqwCose",
    "outputId": "382f1894-13f6-4406-b553-8c9c9466a197"
   },
   "outputs": [
    {
     "data": {
      "text/plain": [
       "Fiction               1366\n",
       "Young Adult            852\n",
       "Romance                849\n",
       "Fantasy                553\n",
       "Contemporary           510\n",
       "Historical Fiction     459\n",
       "Mystery                345\n",
       "New Adult              334\n",
       "Science Fiction        319\n",
       "Historical             303\n",
       "Graphic Novels         213\n",
       "Urban Fantasy          199\n",
       "Nonfiction             191\n",
       "Paranormal             189\n",
       "Thriller               180\n",
       "Autobiography          153\n",
       "Classics               152\n",
       "Womens Fiction         109\n",
       "Childrens              107\n",
       "Adult Fiction           90\n",
       "Paranormal Romance      90\n",
       "Chick Lit               80\n",
       "Humor                   77\n",
       "Cultural                77\n",
       "Picture Books           77\n",
       "Horror                  71\n",
       "History                 69\n",
       "Historical Romance      68\n",
       "Vampires                64\n",
       "Sports                  55\n",
       "Short Stories           54\n",
       "Comics                  54\n",
       "Biography               53\n",
       "LGBT                    45\n",
       "Dystopia                42\n",
       "Memoir                  42\n",
       "Steampunk               37\n",
       "Middle Grade            37\n",
       "Writing                 35\n",
       "Self Help               34\n",
       "Dark                    34\n",
       "Science                 33\n",
       "Magical Realism         30\n",
       "Psychology              28\n",
       "Erotica                 26\n",
       "M M Romance             26\n",
       "Poetry                  24\n",
       "War                     22\n",
       "Literary Fiction        22\n",
       "Feminism                22\n",
       "Name: second_genre, dtype: int64"
      ]
     },
     "execution_count": 19,
     "metadata": {},
     "output_type": "execute_result"
    }
   ],
   "source": [
    "metadata_df['second_genre'].value_counts()[0:50]"
   ]
  },
  {
   "cell_type": "code",
   "execution_count": 20,
   "metadata": {
    "colab": {
     "base_uri": "https://localhost:8080/",
     "height": 354
    },
    "executionInfo": {
     "elapsed": 151,
     "status": "ok",
     "timestamp": 1674619937659,
     "user": {
      "displayName": "Krystal Ly",
      "userId": "10859342568194930352"
     },
     "user_tz": 300
    },
    "id": "iv4-HhNLCujT",
    "outputId": "d34a9f0d-21ab-4c98-976f-6bd3ec726ed7"
   },
   "outputs": [
    {
     "data": {
      "image/png": "[encoded data removed]",
      "text/plain": [
       "<Figure size 640x480 with 1 Axes>"
      ]
     },
     "metadata": {},
     "output_type": "display_data"
    }
   ],
   "source": [
    "metadata_df['second_genre'].value_counts()[0:10].plot(kind = 'bar')\n",
    "plt.title('Distribution of top 10 secondary genres')\n",
    "plt.show()"
   ]
  },
  {
   "cell_type": "markdown",
   "metadata": {
    "id": "j7DuD4TItvJm"
   },
   "source": [
    "#### Year"
   ]
  },
  {
   "cell_type": "code",
   "execution_count": 21,
   "metadata": {
    "colab": {
     "base_uri": "https://localhost:8080/",
     "height": 350
    },
    "executionInfo": {
     "elapsed": 258,
     "status": "ok",
     "timestamp": 1674619937914,
     "user": {
      "displayName": "Krystal Ly",
      "userId": "10859342568194930352"
     },
     "user_tz": 300
    },
    "id": "aPtNjAQ1tuP2",
    "outputId": "3a0dae60-2964-4fb8-f6f4-8b7bde86353d"
   },
   "outputs": [
    {
     "data": {
      "image/png": "[encoded data removed]",
      "text/plain": [
       "<Figure size 640x480 with 1 Axes>"
      ]
     },
     "metadata": {},
     "output_type": "display_data"
    }
   ],
   "source": [
    "plt.hist(metadata_df['year'])\n",
    "plt.show()"
   ]
  },
  {
   "cell_type": "code",
   "execution_count": 22,
   "metadata": {
    "colab": {
     "base_uri": "https://localhost:8080/",
     "height": 633
    },
    "executionInfo": {
     "elapsed": 129,
     "status": "ok",
     "timestamp": 1674619938038,
     "user": {
      "displayName": "Krystal Ly",
      "userId": "10859342568194930352"
     },
     "user_tz": 300
    },
    "id": "0wxmuS_tuS05",
    "outputId": "f88ec68d-5e09-4d4a-bac7-f14c0073b98a"
   },
   "outputs": [
    {
     "data": {
      "text/html": [
       "<div>\n",
       "<style scoped>\n",
       "    .dataframe tbody tr th:only-of-type {\n",
       "        vertical-align: middle;\n",
       "    }\n",
       "\n",
       "    .dataframe tbody tr th {\n",
       "        vertical-align: top;\n",
       "    }\n",
       "\n",
       "    .dataframe thead th {\n",
       "        text-align: right;\n",
       "    }\n",
       "</style>\n",
       "<table border=\"1\" class=\"dataframe\">\n",
       "  <thead>\n",
       "    <tr style=\"text-align: right;\">\n",
       "      <th></th>\n",
       "      <th>item_id</th>\n",
       "      <th>url</th>\n",
       "      <th>title</th>\n",
       "      <th>authors</th>\n",
       "      <th>lang</th>\n",
       "      <th>img</th>\n",
       "      <th>year</th>\n",
       "      <th>description</th>\n",
       "      <th>first_genre</th>\n",
       "      <th>second_genre</th>\n",
       "    </tr>\n",
       "  </thead>\n",
       "  <tbody>\n",
       "    <tr>\n",
       "      <th>5</th>\n",
       "      <td>878368</td>\n",
       "      <td>https://www.goodreads.com/book/show/19063.The_...</td>\n",
       "      <td>The Book Thief</td>\n",
       "      <td>Markus Zusak</td>\n",
       "      <td>eng</td>\n",
       "      <td>https://images.gr-assets.com/books/1390053681m...</td>\n",
       "      <td>0</td>\n",
       "      <td>A story about, among other things: A girl, som...</td>\n",
       "      <td>Historical Fiction</td>\n",
       "      <td>Fiction</td>\n",
       "    </tr>\n",
       "    <tr>\n",
       "      <th>12</th>\n",
       "      <td>14345371</td>\n",
       "      <td>https://www.goodreads.com/book/show/9460487-mi...</td>\n",
       "      <td>Miss Peregrine’s Home for Peculiar Children (M...</td>\n",
       "      <td>Ransom Riggs</td>\n",
       "      <td>en-US</td>\n",
       "      <td>https://images.gr-assets.com/books/1472782916m...</td>\n",
       "      <td>0</td>\n",
       "      <td>A mysterious island. An abandoned orphanage. A...</td>\n",
       "      <td>Fantasy</td>\n",
       "      <td>Young Adult</td>\n",
       "    </tr>\n",
       "    <tr>\n",
       "      <th>22</th>\n",
       "      <td>4717423</td>\n",
       "      <td>https://www.goodreads.com/book/show/4667024-th...</td>\n",
       "      <td>The Help</td>\n",
       "      <td>Kathryn Stockett</td>\n",
       "      <td>eng</td>\n",
       "      <td>https://images.gr-assets.com/books/1346100365m...</td>\n",
       "      <td>0</td>\n",
       "      <td>Be prepared to meet three unforgettable women:...</td>\n",
       "      <td>Fiction</td>\n",
       "      <td>Historical</td>\n",
       "    </tr>\n",
       "    <tr>\n",
       "      <th>56</th>\n",
       "      <td>2588213</td>\n",
       "      <td>https://www.goodreads.com/book/show/1217100.Th...</td>\n",
       "      <td>Thirteen Reasons Why</td>\n",
       "      <td>Jay Asher</td>\n",
       "      <td>eng</td>\n",
       "      <td>https://images.gr-assets.com/books/1333822506m...</td>\n",
       "      <td>0</td>\n",
       "      <td>You can't stop the future.\\nYou can't rewind t...</td>\n",
       "      <td>Young Adult</td>\n",
       "      <td>Contemporary</td>\n",
       "    </tr>\n",
       "    <tr>\n",
       "      <th>59</th>\n",
       "      <td>4422413</td>\n",
       "      <td>https://www.goodreads.com/book/show/4374400-if...</td>\n",
       "      <td>If I Stay (If I Stay, #1)</td>\n",
       "      <td>Gayle Forman</td>\n",
       "      <td>en-US</td>\n",
       "      <td>https://images.gr-assets.com/books/1347462970m...</td>\n",
       "      <td>0</td>\n",
       "      <td>Librarian note: an alternate cover for this ed...</td>\n",
       "      <td>Young Adult</td>\n",
       "      <td>Romance</td>\n",
       "    </tr>\n",
       "    <tr>\n",
       "      <th>...</th>\n",
       "      <td>...</td>\n",
       "      <td>...</td>\n",
       "      <td>...</td>\n",
       "      <td>...</td>\n",
       "      <td>...</td>\n",
       "      <td>...</td>\n",
       "      <td>...</td>\n",
       "      <td>...</td>\n",
       "      <td>...</td>\n",
       "      <td>...</td>\n",
       "    </tr>\n",
       "    <tr>\n",
       "      <th>9319</th>\n",
       "      <td>5831056</td>\n",
       "      <td>https://www.goodreads.com/book/show/5659537-na...</td>\n",
       "      <td>Naamah's Kiss (Naamah Trilogy, #1)</td>\n",
       "      <td>Jacqueline Carey</td>\n",
       "      <td>eng</td>\n",
       "      <td>https://s.gr-assets.com/assets/nophoto/book/11...</td>\n",
       "      <td>0</td>\n",
       "      <td>Once there were great magicians born to the Ma...</td>\n",
       "      <td>Fantasy</td>\n",
       "      <td>Romance</td>\n",
       "    </tr>\n",
       "    <tr>\n",
       "      <th>9339</th>\n",
       "      <td>12930527</td>\n",
       "      <td>https://www.goodreads.com/book/show/8134469-th...</td>\n",
       "      <td>The Good Daughters</td>\n",
       "      <td>Joyce Maynard</td>\n",
       "      <td>eng</td>\n",
       "      <td>https://images.gr-assets.com/books/1282860314m...</td>\n",
       "      <td>0</td>\n",
       "      <td>The bestselling author of Labor Day returns wi...</td>\n",
       "      <td>Fiction</td>\n",
       "      <td>Contemporary</td>\n",
       "    </tr>\n",
       "    <tr>\n",
       "      <th>9341</th>\n",
       "      <td>2393951</td>\n",
       "      <td>https://www.goodreads.com/book/show/234724.Sha...</td>\n",
       "      <td>Shadow Puppets (Ender's Shadow, #3)</td>\n",
       "      <td>Orson Scott Card</td>\n",
       "      <td>NaN</td>\n",
       "      <td>https://s.gr-assets.com/assets/nophoto/book/11...</td>\n",
       "      <td>0</td>\n",
       "      <td>A Sequel to The New York TimesBestselling Ende...</td>\n",
       "      <td>Science Fiction</td>\n",
       "      <td>Fiction</td>\n",
       "    </tr>\n",
       "    <tr>\n",
       "      <th>9345</th>\n",
       "      <td>46681308</td>\n",
       "      <td>https://www.goodreads.com/book/show/26643691-s...</td>\n",
       "      <td>Some Sort of Crazy (Happy Crazy Love, #2)</td>\n",
       "      <td>Melanie Harlow</td>\n",
       "      <td>en-CA</td>\n",
       "      <td>https://images.gr-assets.com/books/1446654825m...</td>\n",
       "      <td>0</td>\n",
       "      <td>When a psychic tells Natalie Nixon her life is...</td>\n",
       "      <td>Romance</td>\n",
       "      <td>Romance</td>\n",
       "    </tr>\n",
       "    <tr>\n",
       "      <th>9352</th>\n",
       "      <td>3046634</td>\n",
       "      <td>https://www.goodreads.com/book/show/5205.A_Map...</td>\n",
       "      <td>A Map of the World</td>\n",
       "      <td>Jane Hamilton</td>\n",
       "      <td>en-GB</td>\n",
       "      <td>https://s.gr-assets.com/assets/nophoto/book/11...</td>\n",
       "      <td>0</td>\n",
       "      <td>One unremarkable June morning, Alice Goodwin i...</td>\n",
       "      <td>Fiction</td>\n",
       "      <td>Contemporary</td>\n",
       "    </tr>\n",
       "  </tbody>\n",
       "</table>\n",
       "<p>1256 rows × 10 columns</p>\n",
       "</div>"
      ],
      "text/plain": [
       "       item_id                                                url  \\\n",
       "5       878368  https://www.goodreads.com/book/show/19063.The_...   \n",
       "12    14345371  https://www.goodreads.com/book/show/9460487-mi...   \n",
       "22     4717423  https://www.goodreads.com/book/show/4667024-th...   \n",
       "56     2588213  https://www.goodreads.com/book/show/1217100.Th...   \n",
       "59     4422413  https://www.goodreads.com/book/show/4374400-if...   \n",
       "...        ...                                                ...   \n",
       "9319   5831056  https://www.goodreads.com/book/show/5659537-na...   \n",
       "9339  12930527  https://www.goodreads.com/book/show/8134469-th...   \n",
       "9341   2393951  https://www.goodreads.com/book/show/234724.Sha...   \n",
       "9345  46681308  https://www.goodreads.com/book/show/26643691-s...   \n",
       "9352   3046634  https://www.goodreads.com/book/show/5205.A_Map...   \n",
       "\n",
       "                                                  title           authors  \\\n",
       "5                                        The Book Thief      Markus Zusak   \n",
       "12    Miss Peregrine’s Home for Peculiar Children (M...      Ransom Riggs   \n",
       "22                                             The Help  Kathryn Stockett   \n",
       "56                                 Thirteen Reasons Why         Jay Asher   \n",
       "59                            If I Stay (If I Stay, #1)      Gayle Forman   \n",
       "...                                                 ...               ...   \n",
       "9319                 Naamah's Kiss (Naamah Trilogy, #1)  Jacqueline Carey   \n",
       "9339                                 The Good Daughters     Joyce Maynard   \n",
       "9341                Shadow Puppets (Ender's Shadow, #3)  Orson Scott Card   \n",
       "9345          Some Sort of Crazy (Happy Crazy Love, #2)    Melanie Harlow   \n",
       "9352                                 A Map of the World     Jane Hamilton   \n",
       "\n",
       "       lang                                                img  year  \\\n",
       "5       eng  https://images.gr-assets.com/books/1390053681m...     0   \n",
       "12    en-US  https://images.gr-assets.com/books/1472782916m...     0   \n",
       "22      eng  https://images.gr-assets.com/books/1346100365m...     0   \n",
       "56      eng  https://images.gr-assets.com/books/1333822506m...     0   \n",
       "59    en-US  https://images.gr-assets.com/books/1347462970m...     0   \n",
       "...     ...                                                ...   ...   \n",
       "9319    eng  https://s.gr-assets.com/assets/nophoto/book/11...     0   \n",
       "9339    eng  https://images.gr-assets.com/books/1282860314m...     0   \n",
       "9341    NaN  https://s.gr-assets.com/assets/nophoto/book/11...     0   \n",
       "9345  en-CA  https://images.gr-assets.com/books/1446654825m...     0   \n",
       "9352  en-GB  https://s.gr-assets.com/assets/nophoto/book/11...     0   \n",
       "\n",
       "                                            description         first_genre  \\\n",
       "5     A story about, among other things: A girl, som...  Historical Fiction   \n",
       "12    A mysterious island. An abandoned orphanage. A...             Fantasy   \n",
       "22    Be prepared to meet three unforgettable women:...             Fiction   \n",
       "56    You can't stop the future.\\nYou can't rewind t...         Young Adult   \n",
       "59    Librarian note: an alternate cover for this ed...         Young Adult   \n",
       "...                                                 ...                 ...   \n",
       "9319  Once there were great magicians born to the Ma...             Fantasy   \n",
       "9339  The bestselling author of Labor Day returns wi...             Fiction   \n",
       "9341  A Sequel to The New York TimesBestselling Ende...     Science Fiction   \n",
       "9345  When a psychic tells Natalie Nixon her life is...             Romance   \n",
       "9352  One unremarkable June morning, Alice Goodwin i...             Fiction   \n",
       "\n",
       "      second_genre  \n",
       "5          Fiction  \n",
       "12     Young Adult  \n",
       "22      Historical  \n",
       "56    Contemporary  \n",
       "59         Romance  \n",
       "...            ...  \n",
       "9319       Romance  \n",
       "9339  Contemporary  \n",
       "9341       Fiction  \n",
       "9345       Romance  \n",
       "9352  Contemporary  \n",
       "\n",
       "[1256 rows x 10 columns]"
      ]
     },
     "execution_count": 22,
     "metadata": {},
     "output_type": "execute_result"
    }
   ],
   "source": [
    "metadata_df[metadata_df['year'] == 0]"
   ]
  },
  {
   "cell_type": "markdown",
   "metadata": {
    "id": "IJ0ol0GS3rPj"
   },
   "source": [
    "There are 1256/9374 missing data (coded as 0) in the year column\n"
   ]
  },
  {
   "cell_type": "code",
   "execution_count": 23,
   "metadata": {
    "colab": {
     "base_uri": "https://localhost:8080/",
     "height": 281
    },
    "executionInfo": {
     "elapsed": 448,
     "status": "ok",
     "timestamp": 1674620237649,
     "user": {
      "displayName": "Krystal Ly",
      "userId": "10859342568194930352"
     },
     "user_tz": 300
    },
    "id": "qRakCdozumdE",
    "outputId": "aad5933f-7321-4713-a64c-92bd7b5d8ad0"
   },
   "outputs": [
    {
     "data": {
      "image/png": "[encoded data removed]",
      "text/plain": [
       "<Figure size 640x480 with 1 Axes>"
      ]
     },
     "metadata": {},
     "output_type": "display_data"
    }
   ],
   "source": [
    "plt.hist(metadata_df[metadata_df['year'] != 0]['year'])\n",
    "plt.title('Distribution of released years')\n",
    "plt.show()"
   ]
  },
  {
   "cell_type": "code",
   "execution_count": 31,
   "metadata": {},
   "outputs": [
    {
     "data": {
      "text/html": [
       "<div>\n",
       "<style scoped>\n",
       "    .dataframe tbody tr th:only-of-type {\n",
       "        vertical-align: middle;\n",
       "    }\n",
       "\n",
       "    .dataframe tbody tr th {\n",
       "        vertical-align: top;\n",
       "    }\n",
       "\n",
       "    .dataframe thead th {\n",
       "        text-align: right;\n",
       "    }\n",
       "</style>\n",
       "<table border=\"1\" class=\"dataframe\">\n",
       "  <thead>\n",
       "    <tr style=\"text-align: right;\">\n",
       "      <th></th>\n",
       "      <th>year</th>\n",
       "    </tr>\n",
       "  </thead>\n",
       "  <tbody>\n",
       "    <tr>\n",
       "      <th>max</th>\n",
       "      <td>2017</td>\n",
       "    </tr>\n",
       "    <tr>\n",
       "      <th>min</th>\n",
       "      <td>1912</td>\n",
       "    </tr>\n",
       "  </tbody>\n",
       "</table>\n",
       "</div>"
      ],
      "text/plain": [
       "     year\n",
       "max  2017\n",
       "min  1912"
      ]
     },
     "execution_count": 31,
     "metadata": {},
     "output_type": "execute_result"
    }
   ],
   "source": [
    "metadata_df[metadata_df['year'] != 0].agg({'year':[\"max\",\"min\"]})"
   ]
  },
  {
   "cell_type": "code",
   "execution_count": null,
   "metadata": {
    "colab": {
     "base_uri": "https://localhost:8080/",
     "height": 281
    },
    "executionInfo": {
     "elapsed": 428,
     "status": "ok",
     "timestamp": 1674620339086,
     "user": {
      "displayName": "Krystal Ly",
      "userId": "10859342568194930352"
     },
     "user_tz": 300
    },
    "id": "KXvkwLRFvoeL",
    "outputId": "14c717ce-5393-4dca-ff94-101614310d01"
   },
   "outputs": [
    {
     "data": {
      "image/png": "[encoded data removed]",
      "text/plain": [
       "<Figure size 432x288 with 1 Axes>"
      ]
     },
     "metadata": {
      "needs_background": "light"
     },
     "output_type": "display_data"
    }
   ],
   "source": [
    "plt.hist(metadata_df[metadata_df['year'] > 2000]['year'])\n",
    "plt.title('Distribution of released years from 2000')\n",
    "plt.show()"
   ]
  },
  {
   "cell_type": "markdown",
   "metadata": {
    "id": "7TXJQJ8pKVBM"
   },
   "source": [
    "#### Language"
   ]
  },
  {
   "cell_type": "code",
   "execution_count": 33,
   "metadata": {
    "colab": {
     "base_uri": "https://localhost:8080/",
     "height": 302
    },
    "executionInfo": {
     "elapsed": 353,
     "status": "ok",
     "timestamp": 1674620588892,
     "user": {
      "displayName": "Krystal Ly",
      "userId": "10859342568194930352"
     },
     "user_tz": 300
    },
    "id": "4v64DdUJv1Q-",
    "outputId": "b972bad5-8b73-480d-da23-bcd71dea6048"
   },
   "outputs": [
    {
     "data": {
      "image/png": "[encoded data removed]",
      "text/plain": [
       "<Figure size 640x480 with 1 Axes>"
      ]
     },
     "metadata": {},
     "output_type": "display_data"
    }
   ],
   "source": [
    "plt.figure()\n",
    "metadata_df['lang'].value_counts().plot(kind = 'bar')\n",
    "plt.title('Distribution of languages')\n",
    "plt.show()"
   ]
  },
  {
   "cell_type": "markdown",
   "metadata": {
    "id": "AAajkjLV3vCd"
   },
   "source": [
    "All languages are some types of English"
   ]
  },
  {
   "cell_type": "markdown",
   "metadata": {
    "id": "HJg4fOumMKsL"
   },
   "source": [
    "### Ratings"
   ]
  },
  {
   "cell_type": "code",
   "execution_count": null,
   "metadata": {
    "colab": {
     "base_uri": "https://localhost:8080/"
    },
    "executionInfo": {
     "elapsed": 462,
     "status": "ok",
     "timestamp": 1674676050927,
     "user": {
      "displayName": "Krystal Ly",
      "userId": "10859342568194930352"
     },
     "user_tz": 300
    },
    "id": "i6_7NZsKMKFD",
    "outputId": "fd744f6f-8c23-4166-df92-bd8fa0765598"
   },
   "outputs": [
    {
     "data": {
      "text/plain": [
       "350332"
      ]
     },
     "execution_count": 8,
     "metadata": {},
     "output_type": "execute_result"
    }
   ],
   "source": [
    "len(pd.unique(ratings_df['user_id']))"
   ]
  },
  {
   "cell_type": "code",
   "execution_count": null,
   "metadata": {
    "colab": {
     "base_uri": "https://localhost:8080/"
    },
    "executionInfo": {
     "elapsed": 517,
     "status": "ok",
     "timestamp": 1674676051845,
     "user": {
      "displayName": "Krystal Ly",
      "userId": "10859342568194930352"
     },
     "user_tz": 300
    },
    "id": "pRCAkvBMKZuk",
    "outputId": "481fb02e-dd27-4aba-e120-fb27cdbfe548"
   },
   "outputs": [
    {
     "data": {
      "text/plain": [
       "549.6752720290165"
      ]
     },
     "execution_count": 9,
     "metadata": {},
     "output_type": "execute_result"
    }
   ],
   "source": [
    "ratings_df.groupby('item_id')['user_id'].count().mean()"
   ]
  },
  {
   "cell_type": "code",
   "execution_count": null,
   "metadata": {
    "colab": {
     "base_uri": "https://localhost:8080/"
    },
    "executionInfo": {
     "elapsed": 312,
     "status": "ok",
     "timestamp": 1674676052681,
     "user": {
      "displayName": "Krystal Ly",
      "userId": "10859342568194930352"
     },
     "user_tz": 300
    },
    "id": "WV86hLnyM4RZ",
    "outputId": "fbcd050e-b289-430f-8b85-1127f98a950d"
   },
   "outputs": [
    {
     "data": {
      "text/plain": [
       "item_id\n",
       "16827462    21442\n",
       "2792775     19818\n",
       "13306276    17536\n",
       "13155899    16527\n",
       "41107568    14543\n",
       "            ...  \n",
       "39961074      148\n",
       "19076939      148\n",
       "21856196      146\n",
       "26163493      141\n",
       "41549233      140\n",
       "Name: user_id, Length: 9374, dtype: int64"
      ]
     },
     "execution_count": 10,
     "metadata": {},
     "output_type": "execute_result"
    }
   ],
   "source": [
    "ratings_df.groupby('item_id').count().sort_values(by = 'user_id', ascending = False)['user_id']"
   ]
  },
  {
   "cell_type": "code",
   "execution_count": null,
   "metadata": {
    "colab": {
     "base_uri": "https://localhost:8080/",
     "height": 141
    },
    "executionInfo": {
     "elapsed": 150,
     "status": "ok",
     "timestamp": 1674676053808,
     "user": {
      "displayName": "Krystal Ly",
      "userId": "10859342568194930352"
     },
     "user_tz": 300
    },
    "id": "dXcnT2YDNXlU",
    "outputId": "223ff611-b802-4f40-e779-fadb45144af0"
   },
   "outputs": [
    {
     "data": {
      "text/html": [
       "\n",
       "  <div id=\"df-4d08ba7b-bba9-405e-b3c7-c9aa29808edb\">\n",
       "    <div class=\"colab-df-container\">\n",
       "      <div>\n",
       "<style scoped>\n",
       "    .dataframe tbody tr th:only-of-type {\n",
       "        vertical-align: middle;\n",
       "    }\n",
       "\n",
       "    .dataframe tbody tr th {\n",
       "        vertical-align: top;\n",
       "    }\n",
       "\n",
       "    .dataframe thead th {\n",
       "        text-align: right;\n",
       "    }\n",
       "</style>\n",
       "<table border=\"1\" class=\"dataframe\">\n",
       "  <thead>\n",
       "    <tr style=\"text-align: right;\">\n",
       "      <th></th>\n",
       "      <th>item_id</th>\n",
       "      <th>url</th>\n",
       "      <th>title</th>\n",
       "      <th>authors</th>\n",
       "      <th>lang</th>\n",
       "      <th>img</th>\n",
       "      <th>year</th>\n",
       "      <th>description</th>\n",
       "      <th>first_genre</th>\n",
       "      <th>second_genre</th>\n",
       "    </tr>\n",
       "  </thead>\n",
       "  <tbody>\n",
       "    <tr>\n",
       "      <th>0</th>\n",
       "      <td>16827462</td>\n",
       "      <td>https://www.goodreads.com/book/show/11870085-t...</td>\n",
       "      <td>The Fault in Our Stars</td>\n",
       "      <td>John Green</td>\n",
       "      <td>eng</td>\n",
       "      <td>https://images.gr-assets.com/books/1360206420m...</td>\n",
       "      <td>2012</td>\n",
       "      <td>There is an alternate cover edition \u0001.\\n\"I fel...</td>\n",
       "      <td>Young Adult</td>\n",
       "      <td>Romance</td>\n",
       "    </tr>\n",
       "  </tbody>\n",
       "</table>\n",
       "</div>\n",
       "      <button class=\"colab-df-convert\" onclick=\"convertToInteractive('df-4d08ba7b-bba9-405e-b3c7-c9aa29808edb')\"\n",
       "              title=\"Convert this dataframe to an interactive table.\"\n",
       "              style=\"display:none;\">\n",
       "        \n",
       "  <svg xmlns=\"http://www.w3.org/2000/svg\" height=\"24px\"viewBox=\"0 0 24 24\"\n",
       "       width=\"24px\">\n",
       "    <path d=\"M0 0h24v24H0V0z\" fill=\"none\"/>\n",
       "    <path d=\"M18.56 5.44l.94 2.06.94-2.06 2.06-.94-2.06-.94-.94-2.06-.94 2.06-2.06.94zm-11 1L8.5 8.5l.94-2.06 2.06-.94-2.06-.94L8.5 2.5l-.94 2.06-2.06.94zm10 10l.94 2.06.94-2.06 2.06-.94-2.06-.94-.94-2.06-.94 2.06-2.06.94z\"/><path d=\"M17.41 7.96l-1.37-1.37c-.4-.4-.92-.59-1.43-.59-.52 0-1.04.2-1.43.59L10.3 9.45l-7.72 7.72c-.78.78-.78 2.05 0 2.83L4 21.41c.39.39.9.59 1.41.59.51 0 1.02-.2 1.41-.59l7.78-7.78 2.81-2.81c.8-.78.8-2.07 0-2.86zM5.41 20L4 18.59l7.72-7.72 1.47 1.35L5.41 20z\"/>\n",
       "  </svg>\n",
       "      </button>\n",
       "      \n",
       "  <style>\n",
       "    .colab-df-container {\n",
       "      display:flex;\n",
       "      flex-wrap:wrap;\n",
       "      gap: 12px;\n",
       "    }\n",
       "\n",
       "    .colab-df-convert {\n",
       "      background-color: #E8F0FE;\n",
       "      border: none;\n",
       "      border-radius: 50%;\n",
       "      cursor: pointer;\n",
       "      display: none;\n",
       "      fill: #1967D2;\n",
       "      height: 32px;\n",
       "      padding: 0 0 0 0;\n",
       "      width: 32px;\n",
       "    }\n",
       "\n",
       "    .colab-df-convert:hover {\n",
       "      background-color: #E2EBFA;\n",
       "      box-shadow: 0px 1px 2px rgba(60, 64, 67, 0.3), 0px 1px 3px 1px rgba(60, 64, 67, 0.15);\n",
       "      fill: #174EA6;\n",
       "    }\n",
       "\n",
       "    [theme=dark] .colab-df-convert {\n",
       "      background-color: #3B4455;\n",
       "      fill: #D2E3FC;\n",
       "    }\n",
       "\n",
       "    [theme=dark] .colab-df-convert:hover {\n",
       "      background-color: #434B5C;\n",
       "      box-shadow: 0px 1px 3px 1px rgba(0, 0, 0, 0.15);\n",
       "      filter: drop-shadow(0px 1px 2px rgba(0, 0, 0, 0.3));\n",
       "      fill: #FFFFFF;\n",
       "    }\n",
       "  </style>\n",
       "\n",
       "      <script>\n",
       "        const buttonEl =\n",
       "          document.querySelector('#df-4d08ba7b-bba9-405e-b3c7-c9aa29808edb button.colab-df-convert');\n",
       "        buttonEl.style.display =\n",
       "          google.colab.kernel.accessAllowed ? 'block' : 'none';\n",
       "\n",
       "        async function convertToInteractive(key) {\n",
       "          const element = document.querySelector('#df-4d08ba7b-bba9-405e-b3c7-c9aa29808edb');\n",
       "          const dataTable =\n",
       "            await google.colab.kernel.invokeFunction('convertToInteractive',\n",
       "                                                     [key], {});\n",
       "          if (!dataTable) return;\n",
       "\n",
       "          const docLinkHtml = 'Like what you see? Visit the ' +\n",
       "            '<a target=\"_blank\" href=https://colab.research.google.com/notebooks/data_table.ipynb>data table notebook</a>'\n",
       "            + ' to learn more about interactive tables.';\n",
       "          element.innerHTML = '';\n",
       "          dataTable['output_type'] = 'display_data';\n",
       "          await google.colab.output.renderOutput(dataTable, element);\n",
       "          const docLink = document.createElement('div');\n",
       "          docLink.innerHTML = docLinkHtml;\n",
       "          element.appendChild(docLink);\n",
       "        }\n",
       "      </script>\n",
       "    </div>\n",
       "  </div>\n",
       "  "
      ],
      "text/plain": [
       "    item_id                                                url  \\\n",
       "0  16827462  https://www.goodreads.com/book/show/11870085-t...   \n",
       "\n",
       "                    title     authors lang  \\\n",
       "0  The Fault in Our Stars  John Green  eng   \n",
       "\n",
       "                                                 img  year  \\\n",
       "0  https://images.gr-assets.com/books/1360206420m...  2012   \n",
       "\n",
       "                                         description  first_genre second_genre  \n",
       "0  There is an alternate cover edition \u0001.\\n\"I fel...  Young Adult      Romance  "
      ]
     },
     "execution_count": 11,
     "metadata": {},
     "output_type": "execute_result"
    }
   ],
   "source": [
    "metadata_df[metadata_df['item_id'] == 16827462]"
   ]
  },
  {
   "cell_type": "code",
   "execution_count": null,
   "metadata": {
    "colab": {
     "base_uri": "https://localhost:8080/",
     "height": 295
    },
    "executionInfo": {
     "elapsed": 626,
     "status": "ok",
     "timestamp": 1674676099739,
     "user": {
      "displayName": "Krystal Ly",
      "userId": "10859342568194930352"
     },
     "user_tz": 300
    },
    "id": "7zNQ1ruWRHzw",
    "outputId": "71d037b4-8a05-40ba-ae42-65ef32cad97c"
   },
   "outputs": [
    {
     "data": {
      "image/png": "[encoded data removed]",
      "text/plain": [
       "<Figure size 432x288 with 1 Axes>"
      ]
     },
     "metadata": {
      "needs_background": "light"
     },
     "output_type": "display_data"
    }
   ],
   "source": [
    "ratings_df.groupby('item_id').count()['user_id'].hist()\n",
    "plt.title('Distribution of number of users rated each movie')\n",
    "plt.ylabel('Count')\n",
    "plt.xlabel('Number of users')\n",
    "plt.show()"
   ]
  },
  {
   "cell_type": "code",
   "execution_count": null,
   "metadata": {
    "colab": {
     "base_uri": "https://localhost:8080/",
     "height": 295
    },
    "executionInfo": {
     "elapsed": 308,
     "status": "ok",
     "timestamp": 1674676172277,
     "user": {
      "displayName": "Krystal Ly",
      "userId": "10859342568194930352"
     },
     "user_tz": 300
    },
    "id": "YC1n49KUSsH7",
    "outputId": "76997b71-bd96-497d-8783-7b8557dd2c6d"
   },
   "outputs": [
    {
     "data": {
      "image/png": "[encoded data removed]",
      "text/plain": [
       "<Figure size 432x288 with 1 Axes>"
      ]
     },
     "metadata": {
      "needs_background": "light"
     },
     "output_type": "display_data"
    }
   ],
   "source": [
    "ratings_df.groupby('item_id').count()['user_id'].hist(range = (0,5000))\n",
    "plt.title('Distribution of number of users rated each movie')\n",
    "plt.ylabel('Count')\n",
    "plt.xlabel('Number of users')\n",
    "plt.show()"
   ]
  },
  {
   "cell_type": "markdown",
   "metadata": {
    "id": "nGlvEpn4363u"
   },
   "source": [
    "Ratings data: 5,152,656 data points with 350,332 users\n",
    "\tEach data point represents each user’s rating for a specific book\n",
    "Ratings are on the scale 1-5\n",
    "\n",
    "Each movie is rated by 549 users on average. \n",
    "The most popular movie is rated by 21,442 users (“The Fault in Our Stars” by John Green)\n",
    "The least popular movie is rated by 140 users\n",
    "\n",
    "The histogram has a long-tail curve since there are a few popular books\n"
   ]
  },
  {
   "cell_type": "code",
   "execution_count": null,
   "metadata": {
    "colab": {
     "base_uri": "https://localhost:8080/"
    },
    "executionInfo": {
     "elapsed": 360,
     "status": "ok",
     "timestamp": 1674659419731,
     "user": {
      "displayName": "Krystal Ly",
      "userId": "10859342568194930352"
     },
     "user_tz": 300
    },
    "id": "qDUcExJyT0ah",
    "outputId": "67176e8d-5489-4141-a66d-7cdf96c0b422"
   },
   "outputs": [
    {
     "data": {
      "text/plain": [
       "min       1.000000\n",
       "max       5.000000\n",
       "mean      3.955796\n",
       "median    4.000000\n",
       "Name: rating, dtype: float64"
      ]
     },
     "execution_count": 25,
     "metadata": {},
     "output_type": "execute_result"
    }
   ],
   "source": [
    "ratings_df['rating'].agg(['min','max','mean','median'])"
   ]
  },
  {
   "cell_type": "code",
   "execution_count": null,
   "metadata": {
    "id": "fu-B7XGZe0vg"
   },
   "outputs": [],
   "source": [
    "# 50th Percentile\n",
    "def q25(x):\n",
    "    return x.quantile(0.25)\n",
    "\n",
    "# 90th Percentile\n",
    "def q75(x):\n",
    "    return x.quantile(0.75)\n",
    "\n",
    "ratings_df_groupby = ratings_df.groupby('item_id').agg(['count','min','max',q25, q75, 'mean','median', pd.Series.mode])['rating']"
   ]
  },
  {
   "cell_type": "code",
   "execution_count": null,
   "metadata": {
    "colab": {
     "base_uri": "https://localhost:8080/",
     "height": 390
    },
    "executionInfo": {
     "elapsed": 127,
     "status": "ok",
     "timestamp": 1674677005315,
     "user": {
      "displayName": "Krystal Ly",
      "userId": "10859342568194930352"
     },
     "user_tz": 300
    },
    "id": "MbpF3RPGgo3F",
    "outputId": "7469b252-e15a-4084-d99e-30456c4e49d4"
   },
   "outputs": [
    {
     "data": {
      "text/html": [
       "\n",
       "  <div id=\"df-967f0f91-f756-4655-84f6-2b01c5236ad7\">\n",
       "    <div class=\"colab-df-container\">\n",
       "      <div>\n",
       "<style scoped>\n",
       "    .dataframe tbody tr th:only-of-type {\n",
       "        vertical-align: middle;\n",
       "    }\n",
       "\n",
       "    .dataframe tbody tr th {\n",
       "        vertical-align: top;\n",
       "    }\n",
       "\n",
       "    .dataframe thead th {\n",
       "        text-align: right;\n",
       "    }\n",
       "</style>\n",
       "<table border=\"1\" class=\"dataframe\">\n",
       "  <thead>\n",
       "    <tr style=\"text-align: right;\">\n",
       "      <th></th>\n",
       "      <th>count</th>\n",
       "      <th>min</th>\n",
       "      <th>max</th>\n",
       "      <th>q25</th>\n",
       "      <th>q75</th>\n",
       "      <th>mean</th>\n",
       "      <th>median</th>\n",
       "      <th>mode</th>\n",
       "    </tr>\n",
       "    <tr>\n",
       "      <th>item_id</th>\n",
       "      <th></th>\n",
       "      <th></th>\n",
       "      <th></th>\n",
       "      <th></th>\n",
       "      <th></th>\n",
       "      <th></th>\n",
       "      <th></th>\n",
       "      <th></th>\n",
       "    </tr>\n",
       "  </thead>\n",
       "  <tbody>\n",
       "    <tr>\n",
       "      <th>16827462</th>\n",
       "      <td>21442</td>\n",
       "      <td>1</td>\n",
       "      <td>5</td>\n",
       "      <td>4.0</td>\n",
       "      <td>5.0</td>\n",
       "      <td>4.401269</td>\n",
       "      <td>5.0</td>\n",
       "      <td>5</td>\n",
       "    </tr>\n",
       "    <tr>\n",
       "      <th>2792775</th>\n",
       "      <td>19818</td>\n",
       "      <td>1</td>\n",
       "      <td>5</td>\n",
       "      <td>4.0</td>\n",
       "      <td>5.0</td>\n",
       "      <td>4.414875</td>\n",
       "      <td>5.0</td>\n",
       "      <td>5</td>\n",
       "    </tr>\n",
       "    <tr>\n",
       "      <th>13306276</th>\n",
       "      <td>17536</td>\n",
       "      <td>1</td>\n",
       "      <td>5</td>\n",
       "      <td>3.0</td>\n",
       "      <td>5.0</td>\n",
       "      <td>3.847115</td>\n",
       "      <td>4.0</td>\n",
       "      <td>4</td>\n",
       "    </tr>\n",
       "    <tr>\n",
       "      <th>13155899</th>\n",
       "      <td>16527</td>\n",
       "      <td>1</td>\n",
       "      <td>5</td>\n",
       "      <td>4.0</td>\n",
       "      <td>5.0</td>\n",
       "      <td>4.153990</td>\n",
       "      <td>4.0</td>\n",
       "      <td>5</td>\n",
       "    </tr>\n",
       "    <tr>\n",
       "      <th>41107568</th>\n",
       "      <td>14543</td>\n",
       "      <td>1</td>\n",
       "      <td>5</td>\n",
       "      <td>3.0</td>\n",
       "      <td>4.0</td>\n",
       "      <td>3.656054</td>\n",
       "      <td>4.0</td>\n",
       "      <td>4</td>\n",
       "    </tr>\n",
       "    <tr>\n",
       "      <th>8812783</th>\n",
       "      <td>14450</td>\n",
       "      <td>1</td>\n",
       "      <td>5</td>\n",
       "      <td>3.0</td>\n",
       "      <td>5.0</td>\n",
       "      <td>3.898408</td>\n",
       "      <td>4.0</td>\n",
       "      <td>5</td>\n",
       "    </tr>\n",
       "    <tr>\n",
       "      <th>878368</th>\n",
       "      <td>12847</td>\n",
       "      <td>1</td>\n",
       "      <td>5</td>\n",
       "      <td>4.0</td>\n",
       "      <td>5.0</td>\n",
       "      <td>4.489453</td>\n",
       "      <td>5.0</td>\n",
       "      <td>5</td>\n",
       "    </tr>\n",
       "    <tr>\n",
       "      <th>6171458</th>\n",
       "      <td>12395</td>\n",
       "      <td>1</td>\n",
       "      <td>5</td>\n",
       "      <td>4.0</td>\n",
       "      <td>5.0</td>\n",
       "      <td>4.329810</td>\n",
       "      <td>5.0</td>\n",
       "      <td>5</td>\n",
       "    </tr>\n",
       "    <tr>\n",
       "      <th>48765776</th>\n",
       "      <td>12217</td>\n",
       "      <td>1</td>\n",
       "      <td>5</td>\n",
       "      <td>3.0</td>\n",
       "      <td>5.0</td>\n",
       "      <td>3.594745</td>\n",
       "      <td>4.0</td>\n",
       "      <td>4</td>\n",
       "    </tr>\n",
       "    <tr>\n",
       "      <th>17763198</th>\n",
       "      <td>11937</td>\n",
       "      <td>1</td>\n",
       "      <td>5</td>\n",
       "      <td>4.0</td>\n",
       "      <td>5.0</td>\n",
       "      <td>4.361732</td>\n",
       "      <td>5.0</td>\n",
       "      <td>5</td>\n",
       "    </tr>\n",
       "  </tbody>\n",
       "</table>\n",
       "</div>\n",
       "      <button class=\"colab-df-convert\" onclick=\"convertToInteractive('df-967f0f91-f756-4655-84f6-2b01c5236ad7')\"\n",
       "              title=\"Convert this dataframe to an interactive table.\"\n",
       "              style=\"display:none;\">\n",
       "        \n",
       "  <svg xmlns=\"http://www.w3.org/2000/svg\" height=\"24px\"viewBox=\"0 0 24 24\"\n",
       "       width=\"24px\">\n",
       "    <path d=\"M0 0h24v24H0V0z\" fill=\"none\"/>\n",
       "    <path d=\"M18.56 5.44l.94 2.06.94-2.06 2.06-.94-2.06-.94-.94-2.06-.94 2.06-2.06.94zm-11 1L8.5 8.5l.94-2.06 2.06-.94-2.06-.94L8.5 2.5l-.94 2.06-2.06.94zm10 10l.94 2.06.94-2.06 2.06-.94-2.06-.94-.94-2.06-.94 2.06-2.06.94z\"/><path d=\"M17.41 7.96l-1.37-1.37c-.4-.4-.92-.59-1.43-.59-.52 0-1.04.2-1.43.59L10.3 9.45l-7.72 7.72c-.78.78-.78 2.05 0 2.83L4 21.41c.39.39.9.59 1.41.59.51 0 1.02-.2 1.41-.59l7.78-7.78 2.81-2.81c.8-.78.8-2.07 0-2.86zM5.41 20L4 18.59l7.72-7.72 1.47 1.35L5.41 20z\"/>\n",
       "  </svg>\n",
       "      </button>\n",
       "      \n",
       "  <style>\n",
       "    .colab-df-container {\n",
       "      display:flex;\n",
       "      flex-wrap:wrap;\n",
       "      gap: 12px;\n",
       "    }\n",
       "\n",
       "    .colab-df-convert {\n",
       "      background-color: #E8F0FE;\n",
       "      border: none;\n",
       "      border-radius: 50%;\n",
       "      cursor: pointer;\n",
       "      display: none;\n",
       "      fill: #1967D2;\n",
       "      height: 32px;\n",
       "      padding: 0 0 0 0;\n",
       "      width: 32px;\n",
       "    }\n",
       "\n",
       "    .colab-df-convert:hover {\n",
       "      background-color: #E2EBFA;\n",
       "      box-shadow: 0px 1px 2px rgba(60, 64, 67, 0.3), 0px 1px 3px 1px rgba(60, 64, 67, 0.15);\n",
       "      fill: #174EA6;\n",
       "    }\n",
       "\n",
       "    [theme=dark] .colab-df-convert {\n",
       "      background-color: #3B4455;\n",
       "      fill: #D2E3FC;\n",
       "    }\n",
       "\n",
       "    [theme=dark] .colab-df-convert:hover {\n",
       "      background-color: #434B5C;\n",
       "      box-shadow: 0px 1px 3px 1px rgba(0, 0, 0, 0.15);\n",
       "      filter: drop-shadow(0px 1px 2px rgba(0, 0, 0, 0.3));\n",
       "      fill: #FFFFFF;\n",
       "    }\n",
       "  </style>\n",
       "\n",
       "      <script>\n",
       "        const buttonEl =\n",
       "          document.querySelector('#df-967f0f91-f756-4655-84f6-2b01c5236ad7 button.colab-df-convert');\n",
       "        buttonEl.style.display =\n",
       "          google.colab.kernel.accessAllowed ? 'block' : 'none';\n",
       "\n",
       "        async function convertToInteractive(key) {\n",
       "          const element = document.querySelector('#df-967f0f91-f756-4655-84f6-2b01c5236ad7');\n",
       "          const dataTable =\n",
       "            await google.colab.kernel.invokeFunction('convertToInteractive',\n",
       "                                                     [key], {});\n",
       "          if (!dataTable) return;\n",
       "\n",
       "          const docLinkHtml = 'Like what you see? Visit the ' +\n",
       "            '<a target=\"_blank\" href=https://colab.research.google.com/notebooks/data_table.ipynb>data table notebook</a>'\n",
       "            + ' to learn more about interactive tables.';\n",
       "          element.innerHTML = '';\n",
       "          dataTable['output_type'] = 'display_data';\n",
       "          await google.colab.output.renderOutput(dataTable, element);\n",
       "          const docLink = document.createElement('div');\n",
       "          docLink.innerHTML = docLinkHtml;\n",
       "          element.appendChild(docLink);\n",
       "        }\n",
       "      </script>\n",
       "    </div>\n",
       "  </div>\n",
       "  "
      ],
      "text/plain": [
       "          count  min  max  q25  q75      mean  median mode\n",
       "item_id                                                   \n",
       "16827462  21442    1    5  4.0  5.0  4.401269     5.0    5\n",
       "2792775   19818    1    5  4.0  5.0  4.414875     5.0    5\n",
       "13306276  17536    1    5  3.0  5.0  3.847115     4.0    4\n",
       "13155899  16527    1    5  4.0  5.0  4.153990     4.0    5\n",
       "41107568  14543    1    5  3.0  4.0  3.656054     4.0    4\n",
       "8812783   14450    1    5  3.0  5.0  3.898408     4.0    5\n",
       "878368    12847    1    5  4.0  5.0  4.489453     5.0    5\n",
       "6171458   12395    1    5  4.0  5.0  4.329810     5.0    5\n",
       "48765776  12217    1    5  3.0  5.0  3.594745     4.0    4\n",
       "17763198  11937    1    5  4.0  5.0  4.361732     5.0    5"
      ]
     },
     "execution_count": 38,
     "metadata": {},
     "output_type": "execute_result"
    }
   ],
   "source": [
    "ratings_df_groupby.sort_values(by ='count', ascending = False).head(10)"
   ]
  },
  {
   "cell_type": "code",
   "execution_count": null,
   "metadata": {
    "colab": {
     "base_uri": "https://localhost:8080/",
     "height": 390
    },
    "executionInfo": {
     "elapsed": 125,
     "status": "ok",
     "timestamp": 1674677026695,
     "user": {
      "displayName": "Krystal Ly",
      "userId": "10859342568194930352"
     },
     "user_tz": 300
    },
    "id": "m6LjTqnmhC4O",
    "outputId": "996ba99b-f9a3-4b39-da20-87091f3947a1"
   },
   "outputs": [
    {
     "data": {
      "text/html": [
       "\n",
       "  <div id=\"df-54b49456-05ce-409b-bfa8-a6d424c64e25\">\n",
       "    <div class=\"colab-df-container\">\n",
       "      <div>\n",
       "<style scoped>\n",
       "    .dataframe tbody tr th:only-of-type {\n",
       "        vertical-align: middle;\n",
       "    }\n",
       "\n",
       "    .dataframe tbody tr th {\n",
       "        vertical-align: top;\n",
       "    }\n",
       "\n",
       "    .dataframe thead th {\n",
       "        text-align: right;\n",
       "    }\n",
       "</style>\n",
       "<table border=\"1\" class=\"dataframe\">\n",
       "  <thead>\n",
       "    <tr style=\"text-align: right;\">\n",
       "      <th></th>\n",
       "      <th>count</th>\n",
       "      <th>min</th>\n",
       "      <th>max</th>\n",
       "      <th>q25</th>\n",
       "      <th>q75</th>\n",
       "      <th>mean</th>\n",
       "      <th>median</th>\n",
       "      <th>mode</th>\n",
       "    </tr>\n",
       "    <tr>\n",
       "      <th>item_id</th>\n",
       "      <th></th>\n",
       "      <th></th>\n",
       "      <th></th>\n",
       "      <th></th>\n",
       "      <th></th>\n",
       "      <th></th>\n",
       "      <th></th>\n",
       "      <th></th>\n",
       "    </tr>\n",
       "  </thead>\n",
       "  <tbody>\n",
       "    <tr>\n",
       "      <th>46257672</th>\n",
       "      <td>153</td>\n",
       "      <td>1</td>\n",
       "      <td>5</td>\n",
       "      <td>4.0</td>\n",
       "      <td>5.0</td>\n",
       "      <td>4.098039</td>\n",
       "      <td>4.0</td>\n",
       "      <td>5</td>\n",
       "    </tr>\n",
       "    <tr>\n",
       "      <th>2968997</th>\n",
       "      <td>153</td>\n",
       "      <td>1</td>\n",
       "      <td>5</td>\n",
       "      <td>3.0</td>\n",
       "      <td>5.0</td>\n",
       "      <td>3.803922</td>\n",
       "      <td>4.0</td>\n",
       "      <td>5</td>\n",
       "    </tr>\n",
       "    <tr>\n",
       "      <th>3038235</th>\n",
       "      <td>153</td>\n",
       "      <td>1</td>\n",
       "      <td>5</td>\n",
       "      <td>4.0</td>\n",
       "      <td>5.0</td>\n",
       "      <td>3.993464</td>\n",
       "      <td>4.0</td>\n",
       "      <td>[4, 5]</td>\n",
       "    </tr>\n",
       "    <tr>\n",
       "      <th>2365504</th>\n",
       "      <td>152</td>\n",
       "      <td>1</td>\n",
       "      <td>5</td>\n",
       "      <td>3.0</td>\n",
       "      <td>4.0</td>\n",
       "      <td>3.638158</td>\n",
       "      <td>4.0</td>\n",
       "      <td>4</td>\n",
       "    </tr>\n",
       "    <tr>\n",
       "      <th>48183733</th>\n",
       "      <td>150</td>\n",
       "      <td>1</td>\n",
       "      <td>5</td>\n",
       "      <td>3.0</td>\n",
       "      <td>5.0</td>\n",
       "      <td>3.860000</td>\n",
       "      <td>4.0</td>\n",
       "      <td>4</td>\n",
       "    </tr>\n",
       "    <tr>\n",
       "      <th>39961074</th>\n",
       "      <td>148</td>\n",
       "      <td>2</td>\n",
       "      <td>5</td>\n",
       "      <td>4.0</td>\n",
       "      <td>5.0</td>\n",
       "      <td>4.445946</td>\n",
       "      <td>5.0</td>\n",
       "      <td>5</td>\n",
       "    </tr>\n",
       "    <tr>\n",
       "      <th>19076939</th>\n",
       "      <td>148</td>\n",
       "      <td>1</td>\n",
       "      <td>5</td>\n",
       "      <td>3.0</td>\n",
       "      <td>4.0</td>\n",
       "      <td>3.594595</td>\n",
       "      <td>4.0</td>\n",
       "      <td>4</td>\n",
       "    </tr>\n",
       "    <tr>\n",
       "      <th>21856196</th>\n",
       "      <td>146</td>\n",
       "      <td>1</td>\n",
       "      <td>5</td>\n",
       "      <td>2.0</td>\n",
       "      <td>4.0</td>\n",
       "      <td>2.746575</td>\n",
       "      <td>3.0</td>\n",
       "      <td>3</td>\n",
       "    </tr>\n",
       "    <tr>\n",
       "      <th>26163493</th>\n",
       "      <td>141</td>\n",
       "      <td>1</td>\n",
       "      <td>5</td>\n",
       "      <td>2.0</td>\n",
       "      <td>4.0</td>\n",
       "      <td>2.992908</td>\n",
       "      <td>3.0</td>\n",
       "      <td>3</td>\n",
       "    </tr>\n",
       "    <tr>\n",
       "      <th>41549233</th>\n",
       "      <td>140</td>\n",
       "      <td>1</td>\n",
       "      <td>5</td>\n",
       "      <td>3.0</td>\n",
       "      <td>5.0</td>\n",
       "      <td>3.578571</td>\n",
       "      <td>4.0</td>\n",
       "      <td>5</td>\n",
       "    </tr>\n",
       "  </tbody>\n",
       "</table>\n",
       "</div>\n",
       "      <button class=\"colab-df-convert\" onclick=\"convertToInteractive('df-54b49456-05ce-409b-bfa8-a6d424c64e25')\"\n",
       "              title=\"Convert this dataframe to an interactive table.\"\n",
       "              style=\"display:none;\">\n",
       "        \n",
       "  <svg xmlns=\"http://www.w3.org/2000/svg\" height=\"24px\"viewBox=\"0 0 24 24\"\n",
       "       width=\"24px\">\n",
       "    <path d=\"M0 0h24v24H0V0z\" fill=\"none\"/>\n",
       "    <path d=\"M18.56 5.44l.94 2.06.94-2.06 2.06-.94-2.06-.94-.94-2.06-.94 2.06-2.06.94zm-11 1L8.5 8.5l.94-2.06 2.06-.94-2.06-.94L8.5 2.5l-.94 2.06-2.06.94zm10 10l.94 2.06.94-2.06 2.06-.94-2.06-.94-.94-2.06-.94 2.06-2.06.94z\"/><path d=\"M17.41 7.96l-1.37-1.37c-.4-.4-.92-.59-1.43-.59-.52 0-1.04.2-1.43.59L10.3 9.45l-7.72 7.72c-.78.78-.78 2.05 0 2.83L4 21.41c.39.39.9.59 1.41.59.51 0 1.02-.2 1.41-.59l7.78-7.78 2.81-2.81c.8-.78.8-2.07 0-2.86zM5.41 20L4 18.59l7.72-7.72 1.47 1.35L5.41 20z\"/>\n",
       "  </svg>\n",
       "      </button>\n",
       "      \n",
       "  <style>\n",
       "    .colab-df-container {\n",
       "      display:flex;\n",
       "      flex-wrap:wrap;\n",
       "      gap: 12px;\n",
       "    }\n",
       "\n",
       "    .colab-df-convert {\n",
       "      background-color: #E8F0FE;\n",
       "      border: none;\n",
       "      border-radius: 50%;\n",
       "      cursor: pointer;\n",
       "      display: none;\n",
       "      fill: #1967D2;\n",
       "      height: 32px;\n",
       "      padding: 0 0 0 0;\n",
       "      width: 32px;\n",
       "    }\n",
       "\n",
       "    .colab-df-convert:hover {\n",
       "      background-color: #E2EBFA;\n",
       "      box-shadow: 0px 1px 2px rgba(60, 64, 67, 0.3), 0px 1px 3px 1px rgba(60, 64, 67, 0.15);\n",
       "      fill: #174EA6;\n",
       "    }\n",
       "\n",
       "    [theme=dark] .colab-df-convert {\n",
       "      background-color: #3B4455;\n",
       "      fill: #D2E3FC;\n",
       "    }\n",
       "\n",
       "    [theme=dark] .colab-df-convert:hover {\n",
       "      background-color: #434B5C;\n",
       "      box-shadow: 0px 1px 3px 1px rgba(0, 0, 0, 0.15);\n",
       "      filter: drop-shadow(0px 1px 2px rgba(0, 0, 0, 0.3));\n",
       "      fill: #FFFFFF;\n",
       "    }\n",
       "  </style>\n",
       "\n",
       "      <script>\n",
       "        const buttonEl =\n",
       "          document.querySelector('#df-54b49456-05ce-409b-bfa8-a6d424c64e25 button.colab-df-convert');\n",
       "        buttonEl.style.display =\n",
       "          google.colab.kernel.accessAllowed ? 'block' : 'none';\n",
       "\n",
       "        async function convertToInteractive(key) {\n",
       "          const element = document.querySelector('#df-54b49456-05ce-409b-bfa8-a6d424c64e25');\n",
       "          const dataTable =\n",
       "            await google.colab.kernel.invokeFunction('convertToInteractive',\n",
       "                                                     [key], {});\n",
       "          if (!dataTable) return;\n",
       "\n",
       "          const docLinkHtml = 'Like what you see? Visit the ' +\n",
       "            '<a target=\"_blank\" href=https://colab.research.google.com/notebooks/data_table.ipynb>data table notebook</a>'\n",
       "            + ' to learn more about interactive tables.';\n",
       "          element.innerHTML = '';\n",
       "          dataTable['output_type'] = 'display_data';\n",
       "          await google.colab.output.renderOutput(dataTable, element);\n",
       "          const docLink = document.createElement('div');\n",
       "          docLink.innerHTML = docLinkHtml;\n",
       "          element.appendChild(docLink);\n",
       "        }\n",
       "      </script>\n",
       "    </div>\n",
       "  </div>\n",
       "  "
      ],
      "text/plain": [
       "          count  min  max  q25  q75      mean  median    mode\n",
       "item_id                                                      \n",
       "46257672    153    1    5  4.0  5.0  4.098039     4.0       5\n",
       "2968997     153    1    5  3.0  5.0  3.803922     4.0       5\n",
       "3038235     153    1    5  4.0  5.0  3.993464     4.0  [4, 5]\n",
       "2365504     152    1    5  3.0  4.0  3.638158     4.0       4\n",
       "48183733    150    1    5  3.0  5.0  3.860000     4.0       4\n",
       "39961074    148    2    5  4.0  5.0  4.445946     5.0       5\n",
       "19076939    148    1    5  3.0  4.0  3.594595     4.0       4\n",
       "21856196    146    1    5  2.0  4.0  2.746575     3.0       3\n",
       "26163493    141    1    5  2.0  4.0  2.992908     3.0       3\n",
       "41549233    140    1    5  3.0  5.0  3.578571     4.0       5"
      ]
     },
     "execution_count": 39,
     "metadata": {},
     "output_type": "execute_result"
    }
   ],
   "source": [
    "ratings_df_groupby.sort_values(by ='count', ascending = False).tail(10)"
   ]
  },
  {
   "cell_type": "code",
   "execution_count": null,
   "metadata": {
    "colab": {
     "base_uri": "https://localhost:8080/"
    },
    "executionInfo": {
     "elapsed": 290,
     "status": "ok",
     "timestamp": 1674676551294,
     "user": {
      "displayName": "Krystal Ly",
      "userId": "10859342568194930352"
     },
     "user_tz": 300
    },
    "id": "k4wQXSh3fYzA",
    "outputId": "65061bb6-d023-43c3-acea-a108c1dc34ed"
   },
   "outputs": [
    {
     "data": {
      "text/plain": [
       "item_id\n",
       "16827462    21442\n",
       "2792775     19818\n",
       "13306276    17536\n",
       "13155899    16527\n",
       "41107568    14543\n",
       "            ...  \n",
       "39961074      148\n",
       "19076939      148\n",
       "21856196      146\n",
       "26163493      141\n",
       "41549233      140\n",
       "Name: user_id, Length: 9374, dtype: int64"
      ]
     },
     "execution_count": 23,
     "metadata": {},
     "output_type": "execute_result"
    }
   ],
   "source": [
    "ratings_df.groupby('item_id').count().sort_values(by = 'user_id', ascending = False)['user_id']"
   ]
  },
  {
   "cell_type": "code",
   "execution_count": null,
   "metadata": {
    "colab": {
     "base_uri": "https://localhost:8080/",
     "height": 281
    },
    "executionInfo": {
     "elapsed": 484,
     "status": "ok",
     "timestamp": 1674679461797,
     "user": {
      "displayName": "Krystal Ly",
      "userId": "10859342568194930352"
     },
     "user_tz": 300
    },
    "id": "jmJH60YTgEXa",
    "outputId": "997fee29-c981-4670-b65a-6cc75430273e"
   },
   "outputs": [
    {
     "data": {
      "image/png": "[encoded data removed]",
      "text/plain": [
       "<Figure size 432x288 with 1 Axes>"
      ]
     },
     "metadata": {
      "needs_background": "light"
     },
     "output_type": "display_data"
    }
   ],
   "source": [
    "plt.hist(ratings_df[ratings_df['item_id'] == 16827462]['rating'])\n",
    "plt.title('Distribution of ratings for the most rated movie')\n",
    "plt.show()"
   ]
  },
  {
   "cell_type": "code",
   "execution_count": null,
   "metadata": {
    "colab": {
     "base_uri": "https://localhost:8080/",
     "height": 281
    },
    "executionInfo": {
     "elapsed": 664,
     "status": "ok",
     "timestamp": 1674679471607,
     "user": {
      "displayName": "Krystal Ly",
      "userId": "10859342568194930352"
     },
     "user_tz": 300
    },
    "id": "9DjztndJjMWY",
    "outputId": "91f9ff75-4a8d-42c8-f049-e1b428124388"
   },
   "outputs": [
    {
     "data": {
      "image/png": "[encoded data removed]",
      "text/plain": [
       "<Figure size 432x288 with 1 Axes>"
      ]
     },
     "metadata": {
      "needs_background": "light"
     },
     "output_type": "display_data"
    }
   ],
   "source": [
    "plt.hist(ratings_df[ratings_df['item_id'] == 2792775]['rating'])\n",
    "plt.title('Distribution of ratings for the 2nd most rated movie')\n",
    "plt.show()"
   ]
  },
  {
   "cell_type": "code",
   "execution_count": null,
   "metadata": {
    "colab": {
     "base_uri": "https://localhost:8080/",
     "height": 281
    },
    "executionInfo": {
     "elapsed": 687,
     "status": "ok",
     "timestamp": 1674679488767,
     "user": {
      "displayName": "Krystal Ly",
      "userId": "10859342568194930352"
     },
     "user_tz": 300
    },
    "id": "R2Ff_fv5jtv0",
    "outputId": "7570fa0f-d8db-4205-d1fe-479d456cbd8d"
   },
   "outputs": [
    {
     "data": {
      "image/png": "[encoded data removed]",
      "text/plain": [
       "<Figure size 432x288 with 1 Axes>"
      ]
     },
     "metadata": {
      "needs_background": "light"
     },
     "output_type": "display_data"
    }
   ],
   "source": [
    "plt.hist(ratings_df[ratings_df['item_id'] == 13306276]['rating'])\n",
    "plt.title('Distribution of ratings for the 3rd most rated movie')\n",
    "plt.show()"
   ]
  },
  {
   "cell_type": "code",
   "execution_count": null,
   "metadata": {
    "colab": {
     "base_uri": "https://localhost:8080/",
     "height": 281
    },
    "executionInfo": {
     "elapsed": 278,
     "status": "ok",
     "timestamp": 1674679496130,
     "user": {
      "displayName": "Krystal Ly",
      "userId": "10859342568194930352"
     },
     "user_tz": 300
    },
    "id": "dwRKoRKsjphH",
    "outputId": "c91c4c24-6cfb-4fb3-8390-285d2343420a"
   },
   "outputs": [
    {
     "data": {
      "image/png": "[encoded data removed]",
      "text/plain": [
       "<Figure size 432x288 with 1 Axes>"
      ]
     },
     "metadata": {
      "needs_background": "light"
     },
     "output_type": "display_data"
    }
   ],
   "source": [
    "plt.hist(ratings_df[ratings_df['item_id'] == 13155899]['rating'])\n",
    "plt.title('Distribution of ratings for the 4th most rated movie')\n",
    "plt.show()"
   ]
  },
  {
   "cell_type": "code",
   "execution_count": null,
   "metadata": {
    "colab": {
     "base_uri": "https://localhost:8080/",
     "height": 281
    },
    "executionInfo": {
     "elapsed": 478,
     "status": "ok",
     "timestamp": 1674679584567,
     "user": {
      "displayName": "Krystal Ly",
      "userId": "10859342568194930352"
     },
     "user_tz": 300
    },
    "id": "nO84V9UikA_A",
    "outputId": "0f0d66cb-0c74-4f55-e8a1-da1e85eb20c7"
   },
   "outputs": [
    {
     "data": {
      "image/png": "[encoded data removed]",
      "text/plain": [
       "<Figure size 432x288 with 1 Axes>"
      ]
     },
     "metadata": {
      "needs_background": "light"
     },
     "output_type": "display_data"
    }
   ],
   "source": [
    "plt.hist(ratings_df[ratings_df['item_id'] == 41107568]['rating'])\n",
    "plt.title('Distribution of ratings for the 5th most rated movie')\n",
    "plt.show()"
   ]
  },
  {
   "cell_type": "code",
   "execution_count": null,
   "metadata": {
    "colab": {
     "base_uri": "https://localhost:8080/",
     "height": 281
    },
    "executionInfo": {
     "elapsed": 992,
     "status": "ok",
     "timestamp": 1674679523336,
     "user": {
      "displayName": "Krystal Ly",
      "userId": "10859342568194930352"
     },
     "user_tz": 300
    },
    "id": "7yE-Wv-up5SP",
    "outputId": "04c9ccab-118c-4085-a8f3-6ef1e9fd141a"
   },
   "outputs": [
    {
     "data": {
      "image/png": "[encoded data removed]",
      "text/plain": [
       "<Figure size 432x288 with 1 Axes>"
      ]
     },
     "metadata": {
      "needs_background": "light"
     },
     "output_type": "display_data"
    }
   ],
   "source": [
    "plt.hist(ratings_df[ratings_df['item_id'] == 41549233]['rating'])\n",
    "plt.title('Distribution of ratings for the least rated movie')\n",
    "plt.show()"
   ]
  },
  {
   "cell_type": "code",
   "execution_count": null,
   "metadata": {
    "colab": {
     "base_uri": "https://localhost:8080/",
     "height": 281
    },
    "executionInfo": {
     "elapsed": 585,
     "status": "ok",
     "timestamp": 1674679538124,
     "user": {
      "displayName": "Krystal Ly",
      "userId": "10859342568194930352"
     },
     "user_tz": 300
    },
    "id": "o_6tShxzp9KL",
    "outputId": "876ca760-9774-4689-8dca-e915341e9576"
   },
   "outputs": [
    {
     "data": {
      "image/png": "[encoded data removed]",
      "text/plain": [
       "<Figure size 432x288 with 1 Axes>"
      ]
     },
     "metadata": {
      "needs_background": "light"
     },
     "output_type": "display_data"
    }
   ],
   "source": [
    "plt.hist(ratings_df[ratings_df['item_id'] == 26163493]['rating'])\n",
    "plt.title('Distribution of ratings for the 2nd least rated movie')\n",
    "plt.show()"
   ]
  },
  {
   "cell_type": "code",
   "execution_count": null,
   "metadata": {
    "colab": {
     "base_uri": "https://localhost:8080/",
     "height": 281
    },
    "executionInfo": {
     "elapsed": 418,
     "status": "ok",
     "timestamp": 1674679610855,
     "user": {
      "displayName": "Krystal Ly",
      "userId": "10859342568194930352"
     },
     "user_tz": 300
    },
    "id": "WbPadTK-qEq6",
    "outputId": "39c1f223-64e4-4d41-d413-32c80bb5d441"
   },
   "outputs": [
    {
     "data": {
      "image/png": "[encoded data removed]",
      "text/plain": [
       "<Figure size 432x288 with 1 Axes>"
      ]
     },
     "metadata": {
      "needs_background": "light"
     },
     "output_type": "display_data"
    }
   ],
   "source": [
    "plt.hist(ratings_df[ratings_df['item_id'] == 21856196]['rating'])\n",
    "plt.title('Distribution of ratings for the 3rd least rated movie')\n",
    "plt.show()"
   ]
  },
  {
   "cell_type": "code",
   "execution_count": null,
   "metadata": {
    "colab": {
     "base_uri": "https://localhost:8080/",
     "height": 281
    },
    "executionInfo": {
     "elapsed": 316,
     "status": "ok",
     "timestamp": 1674679630496,
     "user": {
      "displayName": "Krystal Ly",
      "userId": "10859342568194930352"
     },
     "user_tz": 300
    },
    "id": "Wk1737Wrga5E",
    "outputId": "7f42b9ff-fb89-401a-b9c8-c0759604a9f0"
   },
   "outputs": [
    {
     "data": {
      "image/png": "[encoded data removed]",
      "text/plain": [
       "<Figure size 432x288 with 1 Axes>"
      ]
     },
     "metadata": {
      "needs_background": "light"
     },
     "output_type": "display_data"
    }
   ],
   "source": [
    "plt.hist(ratings_df[ratings_df['item_id'] == 19076939]['rating'])\n",
    "plt.title('Distribution of ratings for the 4th least rated movie')\n",
    "plt.show()"
   ]
  },
  {
   "cell_type": "code",
   "execution_count": null,
   "metadata": {
    "colab": {
     "base_uri": "https://localhost:8080/",
     "height": 281
    },
    "executionInfo": {
     "elapsed": 339,
     "status": "ok",
     "timestamp": 1674679652347,
     "user": {
      "displayName": "Krystal Ly",
      "userId": "10859342568194930352"
     },
     "user_tz": 300
    },
    "id": "_D0-6Innrirt",
    "outputId": "ae312d5d-147c-4b89-ad24-82c47f3cf00e"
   },
   "outputs": [
    {
     "data": {
      "image/png": "[encoded data removed]",
      "text/plain": [
       "<Figure size 432x288 with 1 Axes>"
      ]
     },
     "metadata": {
      "needs_background": "light"
     },
     "output_type": "display_data"
    }
   ],
   "source": [
    "plt.hist(ratings_df[ratings_df['item_id'] == 39961074]['rating'])\n",
    "plt.title('Distribution of ratings for the 5th least rated movie')\n",
    "plt.show()"
   ]
  },
  {
   "cell_type": "markdown",
   "metadata": {
    "id": "wL7egrUZfF66"
   },
   "source": [
    "### Tags"
   ]
  },
  {
   "cell_type": "code",
   "execution_count": 34,
   "metadata": {
    "colab": {
     "base_uri": "https://localhost:8080/"
    },
    "executionInfo": {
     "elapsed": 601,
     "status": "ok",
     "timestamp": 1674658796397,
     "user": {
      "displayName": "Krystal Ly",
      "userId": "10859342568194930352"
     },
     "user_tz": 300
    },
    "id": "K5BieE-sXVy9",
    "outputId": "1e1680a0-e329-49e2-e733-08646fe7ca4a"
   },
   "outputs": [
    {
     "data": {
      "text/plain": [
       "727"
      ]
     },
     "execution_count": 34,
     "metadata": {},
     "output_type": "execute_result"
    }
   ],
   "source": [
    "len(pd.unique(tags_df['tag']))"
   ]
  },
  {
   "cell_type": "code",
   "execution_count": 35,
   "metadata": {
    "colab": {
     "base_uri": "https://localhost:8080/"
    },
    "executionInfo": {
     "elapsed": 1011,
     "status": "ok",
     "timestamp": 1674659023541,
     "user": {
      "displayName": "Krystal Ly",
      "userId": "10859342568194930352"
     },
     "user_tz": 300
    },
    "id": "MB1VvVKMcG53",
    "outputId": "810c5e72-3178-4ed6-a557-6b7a1a4c91da"
   },
   "outputs": [
    {
     "data": {
      "text/plain": [
       "9374"
      ]
     },
     "execution_count": 35,
     "metadata": {},
     "output_type": "execute_result"
    }
   ],
   "source": [
    "tags_df.groupby('tag').count()['item_id'].max()"
   ]
  },
  {
   "cell_type": "code",
   "execution_count": null,
   "metadata": {
    "id": "UOO1fTS_cYVm"
   },
   "outputs": [],
   "source": [
    "tags_df['score'].agg([''])"
   ]
  },
  {
   "cell_type": "markdown",
   "metadata": {
    "id": "7cKUegVl4HQG"
   },
   "source": [
    "Tag genomes data: 6,814,898 data points. Each data point represents each tag score for a specific book\n",
    "\n",
    "727 tags, no missing tags for movies\n"
   ]
  }
 ],
 "metadata": {
  "colab": {
   "authorship_tag": "ABX9TyPZJBfP0stXiL/ie+Vocp27",
   "collapsed_sections": [
    "nzDcNktz5Fgj",
    "C_Y6EvEkpH5m",
    "j7DuD4TItvJm",
    "7TXJQJ8pKVBM"
   ],
   "mount_file_id": "1Re8_L6rDcKb6McC-uSpIvNRBlMD4wvij",
   "provenance": []
  },
  "kernelspec": {
   "display_name": "Python 3",
   "language": "python",
   "name": "python3"
  },
  "language_info": {
   "codemirror_mode": {
    "name": "ipython",
    "version": 3
   },
   "file_extension": ".py",
   "mimetype": "text/x-python",
   "name": "python",
   "nbconvert_exporter": "python",
   "pygments_lexer": "ipython3",
   "version": "3.8.10"
  },
  "vscode": {
   "interpreter": {
    "hash": "31f2aee4e71d21fbe5cf8b01ff0e069b9275f58929596ceb00d14d90e3e16cd6"
   }
  }
 },
 "nbformat": 4,
 "nbformat_minor": 0
}
